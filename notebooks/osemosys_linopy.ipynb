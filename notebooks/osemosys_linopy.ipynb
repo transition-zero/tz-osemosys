{
 "cells": [
  {
   "cell_type": "code",
   "execution_count": 1,
   "metadata": {},
   "outputs": [
    {
     "name": "stdout",
     "output_type": "stream",
     "text": [
      "1.1.2\n"
     ]
    }
   ],
   "source": [
    "import otoole\n",
    "print(otoole.__version__)\n",
    "from otoole import read\n",
    "import os\n",
    "import sys\n",
    "sys.path.append('../')\n",
    "\n",
    "# Suppress FutureWarning messages\n",
    "import warnings\n",
    "warnings.simplefilter(action='ignore', category=FutureWarning)\n",
    "\n",
    "from otoole.utils import (\n",
    "    _read_file,\n",
    ")\n",
    "import xarray as xr\n",
    "\n",
    "import logging\n",
    "\n",
    "from feo.osemosys.variables import add_variables\n",
    "from feo.osemosys.model.constraints.demand import *\n",
    "from feo.osemosys.model.constraints.capacity_adequacy_a import *\n",
    "from feo.osemosys.model.constraints.capacity_adequacy_b import *\n",
    "from feo.osemosys.model.constraints.energy_balance_a import *\n",
    "from feo.osemosys.model.constraints.energy_balance_b import *\n",
    "from feo.osemosys.model.constraints.accounting_technology import *\n",
    "from feo.osemosys.model.constraints.capital_costs import *\n",
    "from feo.osemosys.model.constraints.operating_costs import *\n",
    "from feo.osemosys.model.constraints.total_discounted_costs import *\n",
    "from feo.osemosys.model.constraints.total_capacity import *\n",
    "from feo.osemosys.model.constraints.new_capacity import *\n",
    "from feo.osemosys.model.constraints.annual_activity import *\n",
    "from feo.osemosys.model.constraints.total_activity import *\n",
    "from feo.osemosys.model.constraints.salvage_value import *\n",
    "from feo.osemosys.model.constraints.reserve_margin import *\n",
    "from feo.osemosys.model.constraints.re_targets import *\n",
    "from feo.osemosys.model.constraints.emissions import *\n",
    "\n",
    "logger = logging.getLogger(__name__)"
   ]
  },
  {
   "cell_type": "code",
   "execution_count": 2,
   "metadata": {},
   "outputs": [
    {
     "name": "stdout",
     "output_type": "stream",
     "text": [
      "../tests/data/model_one.yaml ../tests/data/model_one\n"
     ]
    }
   ],
   "source": [
    "model_name = 'simple_model_3_technologies'\n",
    "config_path = os.path.join('../examples/otoole_config_files', f'{model_name}.yaml')\n",
    "folder_path = os.path.join('../examples/otoole_csvs', model_name)\n",
    "\n",
    "print(config_path, folder_path)"
   ]
  },
  {
   "cell_type": "code",
   "execution_count": 3,
   "metadata": {},
   "outputs": [],
   "source": [
    "with open(config_path, \"r\") as config_file:\n",
    "    config = _read_file(config_file, '.yaml')\n",
    "\n",
    "model, defaults = read(config_path, 'csv', folder_path)\n",
    "\n",
    "# Reshape the CSV files to create the dataset of sets and parameters\n",
    "# If the sparse package is available (Python <3.11)\n",
    "# data_vars = {x: xr.DataArray().from_series(y.VALUE, sparse=True) for x, y in model.items() if config[x]['type'] == 'param'}\n",
    "data_vars = {x: y.VALUE.to_xarray() for x, y in model.items() if config[x]['type'] == 'param'}\n",
    "coords = {x: y.values.T[0] for x, y in model.items() if config[x]['type'] == 'set'}\n",
    "ds = xr.Dataset(data_vars=data_vars, coords=coords)\n",
    "ds = ds.assign_coords({'_REGION': model['REGION'].values.T[0]})\n",
    "\n",
    "for param, default in defaults.items():\n",
    "    if config[param]['type'] == 'param':\n",
    "        ds[param].attrs['default'] = default\n",
    "        if default != 0:\n",
    "            ds[param] = ds[param].fillna(default)\n",
    "# ds.to_netcdf(f'{model_name}.nc', engine='netcdf4')\n",
    "# ds = xr.open_dataset(f'{model_name}.nc')\n",
    "# ds = ds.drop_sel(YEAR=range(2025, 2071))"
   ]
  },
  {
   "cell_type": "markdown",
   "metadata": {},
   "source": [
    "# Model Creation"
   ]
  },
  {
   "cell_type": "code",
   "execution_count": 4,
   "metadata": {},
   "outputs": [],
   "source": [
    "# client = Client()\n",
    "# client"
   ]
  },
  {
   "cell_type": "code",
   "execution_count": 5,
   "metadata": {},
   "outputs": [],
   "source": [
    "from linopy import Model, solvers, available_solvers\n",
    "\n",
    "chunks = {\n",
    "    'YEAR': ds.YEAR.size,\n",
    "    'TIMESLICE': ds.TIMESLICE.size,\n",
    "    'REGION': 1,\n",
    "    'TECHNOLOGY': 100,\n",
    "    'FUEL': 100,\n",
    "    'MODE_OF_OPERATION': ds.MODE_OF_OPERATION.size,\n",
    "    'SEASON': ds.SEASON.size\n",
    "}\n",
    "\n",
    "m = Model(force_dim_names=True) #, chunk='auto')"
   ]
  },
  {
   "cell_type": "markdown",
   "metadata": {},
   "source": [
    "## Variables"
   ]
  },
  {
   "cell_type": "code",
   "execution_count": 6,
   "metadata": {},
   "outputs": [],
   "source": [
    "m = add_variables(ds, m)"
   ]
  },
  {
   "attachments": {},
   "cell_type": "markdown",
   "metadata": {},
   "source": [
    "## Discounting\n",
    "\n",
    "```ampl\n",
    "param DiscountRate{r in REGION};\n",
    "param DiscountRateIdv{r in REGION, t in TECHNOLOGY}, default DiscountRate[r];\n",
    "\n",
    "param DiscountFactor{r in REGION, y in YEAR} :=\n",
    "\t(1 + DiscountRate[r]) ^ (y - min{yy in YEAR} min(yy) + 0.0);\n",
    "param DiscountFactorMid{r in REGION, y in YEAR} :=\n",
    "\t(1 + DiscountRate[r]) ^ (y - min{yy in YEAR} min(yy) + 0.5);\n",
    "\n",
    "param OperationalLife{r in REGION, t in TECHNOLOGY};\n",
    "\n",
    "param CapitalRecoveryFactor{r in REGION, t in TECHNOLOGY} :=\n",
    "\t(1 - (1 + DiscountRateIdv[r,t])^(-1))/(1 - (1 + DiscountRateIdv[r,t])^(-(OperationalLife[r,t])));\n",
    "param PvAnnuity{r in REGION, t in TECHNOLOGY} :=\n",
    "\t(1 - (1 + DiscountRate[r])^(-(OperationalLife[r,t]))) * (1 + DiscountRate[r]) / DiscountRate[r];\n",
    "\n",
    "param DiscountRateStorage{r in REGION, s in STORAGE};\n",
    "param DiscountFactorStorage{r in REGION, s in STORAGE, y in YEAR} :=\n",
    "\t(1 + DiscountRateStorage[r, s]) ^ (y - min{yy in YEAR} min(yy) + 0.0);\n",
    "param DiscountFactorMidStorage{r in REGION, s in STORAGE, y in YEAR} :=\n",
    "\t(1 + DiscountRateStorage[r, s]) ^ (y - min{yy in YEAR} min(yy) + 0.5);\n",
    "```"
   ]
  },
  {
   "cell_type": "code",
   "execution_count": 7,
   "metadata": {},
   "outputs": [],
   "source": [
    "discount_factor = ((1 + ds['DiscountRate']) ** (ds.coords['YEAR'] - min(ds.coords['YEAR'])))\n",
    "discount_factor_mid = ((1 + ds['DiscountRate']) ** (ds.coords['YEAR'] - min(ds.coords['YEAR']) + 0.5))\n",
    "\n",
    "discount_factor_idv = ((1 + ds['DiscountRateIdv']) ** (ds.coords['YEAR'] - min(ds.coords['YEAR'])))\n",
    "discount_factor_mid_idv = ((1 + ds['DiscountRateIdv']) ** (ds.coords['YEAR'] - min(ds.coords['YEAR']) + 0.5))\n",
    "\n",
    "pv_annuity = (1 - (1 + ds['DiscountRateIdv'])**(-(ds['OperationalLife']))) * (1 + ds['DiscountRateIdv']) / ds['DiscountRateIdv']\n",
    "\n",
    "capital_recovery_factor = (1 - (1 + ds['DiscountRateIdv'])**(-1))/(1 - (1 + ds['DiscountRateIdv'])**(-(ds['OperationalLife'])))"
   ]
  },
  {
   "cell_type": "markdown",
   "metadata": {},
   "source": [
    "# Constraints"
   ]
  },
  {
   "attachments": {},
   "cell_type": "markdown",
   "metadata": {},
   "source": [
    "## Storage\n",
    "\n",
    "```ampl\n",
    "s.t. S1_RateOfStorageCharge{r in REGION, s in STORAGE, ls in SEASON, ld in DAYTYPE, lh in DAILYTIMEBRACKET, y in YEAR}:\n",
    "\tsum{t in TECHNOLOGY, m in MODE_OF_OPERATION, l in TIMESLICE: TechnologyToStorage[r,t,s,m] > 0}\n",
    "\tRateOfActivity[r,l,t,m,y] * TechnologyToStorage[r,t,s,m] * Conversionls[l,ls] * Conversionld[l,ld] * Conversionlh[l,lh]\n",
    "\t=\n",
    "\tRateOfStorageCharge[r,s,ls,ld,lh,y];\n",
    "\n",
    "s.t. S2_RateOfStorageDischarge{r in REGION, s in STORAGE, ls in SEASON, ld in DAYTYPE, lh in DAILYTIMEBRACKET, y in YEAR}:\n",
    "\tsum{t in TECHNOLOGY, m in MODE_OF_OPERATION, l in TIMESLICE: TechnologyFromStorage[r,t,s,m] > 0}\n",
    "\tRateOfActivity[r,l,t,m,y] * TechnologyFromStorage[r,t,s,m] * Conversionls[l,ls] * Conversionld[l,ld] * Conversionlh[l,lh]\n",
    "\t=\n",
    "\tRateOfStorageDischarge[r,s,ls,ld,lh,y];\n",
    "\n",
    "s.t. S3_NetChargeWithinYear{r in REGION, s in STORAGE, ls in SEASON, ld in DAYTYPE, lh in DAILYTIMEBRACKET, y in YEAR}:\n",
    "\tsum{l in TIMESLICE:Conversionls[l,ls]>0 && Conversionld[l,ld] > 0 && Conversionlh[l,lh] > 0}\n",
    "\t(RateOfStorageCharge[r,s,ls,ld,lh,y] - RateOfStorageDischarge[r,s,ls,ld,lh,y]) * YearSplit[l,y] *\n",
    "\tConversionls[l,ls] * Conversionld[l,ld] * Conversionlh[l,lh]\n",
    "\t=\n",
    "\tNetChargeWithinYear[r,s,ls,ld,lh,y];\n",
    "\n",
    "s.t. S4_NetChargeWithinDay{r in REGION, s in STORAGE, ls in SEASON, ld in DAYTYPE, lh in DAILYTIMEBRACKET, y in YEAR}:\n",
    "\t(RateOfStorageCharge[r,s,ls,ld,lh,y] - RateOfStorageDischarge[r,s,ls,ld,lh,y]) * DaySplit[lh,y]\n",
    "\t=\n",
    "\tNetChargeWithinDay[r,s,ls,ld,lh,y];\n",
    "\n",
    "s.t. S5_and_S6_StorageLevelYearStart{r in REGION, s in STORAGE, y in YEAR}:\n",
    "\tif y = min{yy in YEAR} min(yy)\n",
    "\tthen StorageLevelStart[r,s]\n",
    "\telse StorageLevelYearStart[r,s,y-1] + sum{ls in SEASON, ld in DAYTYPE, lh in DAILYTIMEBRACKET}\n",
    "\tNetChargeWithinYear[r,s,ls,ld,lh,y-1]\n",
    "\t=\n",
    "\tStorageLevelYearStart[r,s,y];\n",
    "\n",
    "s.t. S7_and_S8_StorageLevelYearFinish{r in REGION, s in STORAGE, y in YEAR}:\n",
    "\tif y < max{yy in YEAR} max(yy)\n",
    "\tthen StorageLevelYearStart[r,s,y+1]\n",
    "\telse StorageLevelYearStart[r,s,y] + sum{ls in SEASON, ld in DAYTYPE, lh in DAILYTIMEBRACKET}\n",
    "\tNetChargeWithinYear[r,s,ls,ld,lh,y]\n",
    "\t=\n",
    "\tStorageLevelYearFinish[r,s,y];\n",
    "\n",
    "s.t. S9_and_S10_StorageLevelSeasonStart{r in REGION, s in STORAGE, ls in SEASON, y in YEAR}:\n",
    "\tif ls = min{lsls in SEASON} min(lsls)\n",
    "\tthen StorageLevelYearStart[r,s,y]\n",
    "\telse StorageLevelSeasonStart[r,s,ls-1,y] + sum{ld in DAYTYPE, lh in DAILYTIMEBRACKET}\n",
    "\tNetChargeWithinYear[r,s,ls-1,ld,lh,y]\n",
    "\t=\n",
    "\tStorageLevelSeasonStart[r,s,ls,y];\n",
    "\n",
    "s.t. S11_and_S12_StorageLevelDayTypeStart{r in REGION, s in STORAGE, ls in SEASON, ld in DAYTYPE, y in YEAR}:\n",
    "\tif ld = min{ldld in DAYTYPE} min(ldld)\n",
    "\tthen StorageLevelSeasonStart[r,s,ls,y]\n",
    "\telse StorageLevelDayTypeStart[r,s,ls,ld-1,y] + sum{lh in DAILYTIMEBRACKET}\n",
    "\tNetChargeWithinDay[r,s,ls,ld-1,lh,y] * DaysInDayType[ls,ld-1,y]\n",
    "\t=\n",
    "\tStorageLevelDayTypeStart[r,s,ls,ld,y];\n",
    "\n",
    "s.t. S13_and_S14_and_S15_StorageLevelDayTypeFinish{r in REGION, s in STORAGE, ls in SEASON, ld in DAYTYPE, y in YEAR}:\n",
    "\tif ls = max{lsls in SEASON} max(lsls) && ld = max{ldld in DAYTYPE} max(ldld)\n",
    "\tthen StorageLevelYearFinish[r,s,y]\n",
    "\telse if ld = max{ldld in DAYTYPE} max(ldld)\n",
    "\tthen StorageLevelSeasonStart[r,s,ls+1,y]\n",
    "\telse StorageLevelDayTypeFinish[r,s,ls,ld+1,y] - sum{lh in DAILYTIMEBRACKET}\n",
    "\tNetChargeWithinDay[r,s,ls,ld+1,lh,y] * DaysInDayType[ls,ld+1,y]\n",
    "\t=\n",
    "\tStorageLevelDayTypeFinish[r,s,ls,ld,y];\n",
    "\n",
    "#\n",
    "##########\t\tStorage Constraints\t\t\t\t#############\n",
    "#\n",
    "s.t. SC1_LowerLimit_BeginningOfDailyTimeBracketOfFirstInstanceOfDayTypeInFirstWeekConstraint{r in REGION, s in STORAGE, ls in SEASON, ld in DAYTYPE, lh in DAILYTIMEBRACKET, y in YEAR}: 0 <= (StorageLevelDayTypeStart[r,s,ls,ld,y]+sum{lhlh in DAILYTIMEBRACKET:lh-lhlh>0} NetChargeWithinDay[r,s,ls,ld,lhlh,y])-StorageLowerLimit[r,s,y];\n",
    "s.t. SC1_UpperLimit_BeginningOfDailyTimeBracketOfFirstInstanceOfDayTypeInFirstWeekConstraint{r in REGION, s in STORAGE, ls in SEASON, ld in DAYTYPE, lh in DAILYTIMEBRACKET, y in YEAR}: (StorageLevelDayTypeStart[r,s,ls,ld,y]+sum{lhlh in DAILYTIMEBRACKET:lh-lhlh>0} NetChargeWithinDay[r,s,ls,ld,lhlh,y])-StorageUpperLimit[r,s,y] <= 0;\n",
    "s.t. SC2_LowerLimit_EndOfDailyTimeBracketOfLastInstanceOfDayTypeInFirstWeekConstraint{r in REGION, s in STORAGE, ls in SEASON, ld in DAYTYPE, lh in DAILYTIMEBRACKET, y in YEAR}: 0 <= if ld > min{ldld in DAYTYPE} min(ldld) then (StorageLevelDayTypeStart[r,s,ls,ld,y]-sum{lhlh in DAILYTIMEBRACKET:lh-lhlh<0} NetChargeWithinDay[r,s,ls,ld-1,lhlh,y])-StorageLowerLimit[r,s,y];\n",
    "s.t. SC2_UpperLimit_EndOfDailyTimeBracketOfLastInstanceOfDayTypeInFirstWeekConstraint{r in REGION, s in STORAGE, ls in SEASON, ld in DAYTYPE, lh in DAILYTIMEBRACKET, y in YEAR}: if ld > min{ldld in DAYTYPE} min(ldld) then (StorageLevelDayTypeStart[r,s,ls,ld,y]-sum{lhlh in DAILYTIMEBRACKET:lh-lhlh<0} NetChargeWithinDay[r,s,ls,ld-1,lhlh,y])-StorageUpperLimit[r,s,y] <= 0;\n",
    "s.t. SC3_LowerLimit_EndOfDailyTimeBracketOfLastInstanceOfDayTypeInLastWeekConstraint{r in REGION, s in STORAGE, ls in SEASON, ld in DAYTYPE, lh in DAILYTIMEBRACKET, y in YEAR}:  0 <= (StorageLevelDayTypeFinish[r,s,ls,ld,y] - sum{lhlh in DAILYTIMEBRACKET:lh-lhlh<0} NetChargeWithinDay[r,s,ls,ld,lhlh,y])-StorageLowerLimit[r,s,y];\n",
    "s.t. SC3_UpperLimit_EndOfDailyTimeBracketOfLastInstanceOfDayTypeInLastWeekConstraint{r in REGION, s in STORAGE, ls in SEASON, ld in DAYTYPE, lh in DAILYTIMEBRACKET, y in YEAR}:  (StorageLevelDayTypeFinish[r,s,ls,ld,y] - sum{lhlh in DAILYTIMEBRACKET:lh-lhlh<0} NetChargeWithinDay[r,s,ls,ld,lhlh,y])-StorageUpperLimit[r,s,y] <= 0;\n",
    "s.t. SC4_LowerLimit_BeginningOfDailyTimeBracketOfFirstInstanceOfDayTypeInLastWeekConstraint{r in REGION, s in STORAGE, ls in SEASON, ld in DAYTYPE, lh in DAILYTIMEBRACKET, y in YEAR}: \t0 <= if ld > min{ldld in DAYTYPE} min(ldld) then (StorageLevelDayTypeFinish[r,s,ls,ld-1,y]+sum{lhlh in DAILYTIMEBRACKET:lh-lhlh>0} NetChargeWithinDay[r,s,ls,ld,lhlh,y])-StorageLowerLimit[r,s,y];\n",
    "s.t. SC4_UpperLimit_BeginningOfDailyTimeBracketOfFirstInstanceOfDayTypeInLastWeekConstraint{r in REGION, s in STORAGE, ls in SEASON, ld in DAYTYPE, lh in DAILYTIMEBRACKET, y in YEAR}: if ld > min{ldld in DAYTYPE} min(ldld) then (StorageLevelDayTypeFinish[r,s,ls,ld-1,y]+sum{lhlh in DAILYTIMEBRACKET:lh-lhlh>0} NetChargeWithinDay[r,s,ls,ld,lhlh,y])-StorageUpperLimit[r,s,y] <= 0;\n",
    "s.t. SC5_MaxChargeConstraint{r in REGION, s in STORAGE, ls in SEASON, ld in DAYTYPE, lh in DAILYTIMEBRACKET, y in YEAR}: RateOfStorageCharge[r,s,ls,ld,lh,y] <= StorageMaxChargeRate[r,s];\n",
    "s.t. SC6_MaxDischargeConstraint{r in REGION, s in STORAGE, ls in SEASON, ld in DAYTYPE, lh in DAILYTIMEBRACKET, y in YEAR}: RateOfStorageDischarge[r,s,ls,ld,lh,y] <= StorageMaxDischargeRate[r,s];\n",
    "#\n",
    "#########\t\tStorage Investments\t\t\t\t#############\n",
    "#\n",
    "s.t. SI1_StorageUpperLimit{r in REGION, s in STORAGE, y in YEAR}: AccumulatedNewStorageCapacity[r,s,y]+ResidualStorageCapacity[r,s,y] = StorageUpperLimit[r,s,y];\n",
    "s.t. SI2_StorageLowerLimit{r in REGION, s in STORAGE, y in YEAR}: MinStorageCharge[r,s,y]*StorageUpperLimit[r,s,y] = StorageLowerLimit[r,s,y];\n",
    "s.t. SI3_TotalNewStorage{r in REGION, s in STORAGE, y in YEAR}: sum{yy in YEAR: y-yy < OperationalLifeStorage[r,s] && y-yy>=0} NewStorageCapacity[r,s,yy]=AccumulatedNewStorageCapacity[r,s,y];\n",
    "s.t. SI4_UndiscountedCapitalInvestmentStorage{r in REGION, s in STORAGE, y in YEAR}: CapitalCostStorage[r,s,y] * NewStorageCapacity[r,s,y] = CapitalInvestmentStorage[r,s,y];\n",
    "s.t. SI5_DiscountingCapitalInvestmentStorage{r in REGION, s in STORAGE, y in YEAR}: CapitalInvestmentStorage[r,s,y]/(DiscountFactorStorage[r,s,y]) = DiscountedCapitalInvestmentStorage[r,s,y];\n",
    "s.t. SI6_SalvageValueStorageAtEndOfPeriod1{r in REGION, s in STORAGE, y in YEAR: (y+OperationalLifeStorage[r,s]-1) <= (max{yy in YEAR} max(yy))}: 0 = SalvageValueStorage[r,s,y];\n",
    "s.t. SI7_SalvageValueStorageAtEndOfPeriod2{r in REGION, s in STORAGE, y in YEAR: (DepreciationMethod[r]=1 && (y+OperationalLifeStorage[r,s]-1) > (max{yy in YEAR} max(yy)) && DiscountRateStorage[r,s]=0) || (DepreciationMethod[r]=2 && (y+OperationalLifeStorage[r,s]-1) > (max{yy in YEAR} max(yy)))}: CapitalInvestmentStorage[r,s,y]*(1-(max{yy in YEAR} max(yy) - y+1)/OperationalLifeStorage[r,s]) = SalvageValueStorage[r,s,y];\n",
    "s.t. SI8_SalvageValueStorageAtEndOfPeriod3{r in REGION, s in STORAGE, y in YEAR: DepreciationMethod[r]=1 && (y+OperationalLifeStorage[r,s]-1) > (max{yy in YEAR} max(yy)) && DiscountRateStorage[r,s]>0}: CapitalInvestmentStorage[r,s,y]*(1-(((1+DiscountRateStorage[r,s])^(max{yy in YEAR} max(yy) - y+1)-1)/((1+DiscountRateStorage[r,s])^OperationalLifeStorage[r,s]-1))) = SalvageValueStorage[r,s,y];\n",
    "s.t. SI9_SalvageValueStorageDiscountedToStartYear{r in REGION, s in STORAGE, y in YEAR}: SalvageValueStorage[r,s,y]/((1+DiscountRateStorage[r,s])^(max{yy in YEAR} max(yy)-min{yy in YEAR} min(yy)+1)) = DiscountedSalvageValueStorage[r,s,y];\n",
    "s.t. SI10_TotalDiscountedCostByStorage{r in REGION, s in STORAGE, y in YEAR}: DiscountedCapitalInvestmentStorage[r,s,y]-DiscountedSalvageValueStorage[r,s,y] = TotalDiscountedStorageCost[r,s,y];\n",
    "```"
   ]
  },
  {
   "cell_type": "markdown",
   "metadata": {},
   "source": [
    "## Demand"
   ]
  },
  {
   "cell_type": "code",
   "execution_count": 8,
   "metadata": {},
   "outputs": [],
   "source": [
    "m = add_demand_constraints(ds, m)"
   ]
  },
  {
   "cell_type": "markdown",
   "metadata": {},
   "source": [
    "## Capacity Adequacy A"
   ]
  },
  {
   "cell_type": "code",
   "execution_count": 9,
   "metadata": {},
   "outputs": [],
   "source": [
    "m = add_capacity_adequacy_a_constraints(ds, m)"
   ]
  },
  {
   "cell_type": "markdown",
   "metadata": {},
   "source": [
    "## Capacity Adequacy B"
   ]
  },
  {
   "cell_type": "code",
   "execution_count": 10,
   "metadata": {},
   "outputs": [],
   "source": [
    "m = add_capacity_adequacy_b_constraints(ds, m)"
   ]
  },
  {
   "cell_type": "markdown",
   "metadata": {},
   "source": [
    "## Energy Balance A"
   ]
  },
  {
   "cell_type": "code",
   "execution_count": 11,
   "metadata": {},
   "outputs": [],
   "source": [
    "m = add_energy_balance_a_constraints(ds, m)"
   ]
  },
  {
   "attachments": {},
   "cell_type": "markdown",
   "metadata": {},
   "source": [
    "## Energy Balance B"
   ]
  },
  {
   "cell_type": "code",
   "execution_count": 12,
   "metadata": {},
   "outputs": [],
   "source": [
    "m = add_energy_balance_b_constraints(ds, m)"
   ]
  },
  {
   "attachments": {},
   "cell_type": "markdown",
   "metadata": {},
   "source": [
    "## Accounting Technology Production/Use"
   ]
  },
  {
   "cell_type": "code",
   "execution_count": 13,
   "metadata": {},
   "outputs": [],
   "source": [
    "m = add_accounting_technology_constraints(ds, m)"
   ]
  },
  {
   "attachments": {},
   "cell_type": "markdown",
   "metadata": {},
   "source": [
    "## Capital Costs"
   ]
  },
  {
   "cell_type": "code",
   "execution_count": 14,
   "metadata": {},
   "outputs": [],
   "source": [
    "m = add_capital_costs_constraints(ds, m, capital_recovery_factor, pv_annuity, discount_factor)"
   ]
  },
  {
   "attachments": {},
   "cell_type": "markdown",
   "metadata": {},
   "source": [
    "## Salvage Value"
   ]
  },
  {
   "cell_type": "code",
   "execution_count": 15,
   "metadata": {},
   "outputs": [],
   "source": [
    "m = add_salvage_value_constraints(ds, m)"
   ]
  },
  {
   "attachments": {},
   "cell_type": "markdown",
   "metadata": {},
   "source": [
    "## Operating Costs"
   ]
  },
  {
   "cell_type": "code",
   "execution_count": 16,
   "metadata": {},
   "outputs": [],
   "source": [
    "m = add_operating_costs_constraints(ds, m, discount_factor_mid)"
   ]
  },
  {
   "attachments": {},
   "cell_type": "markdown",
   "metadata": {},
   "source": [
    "## Total Discounted Costs"
   ]
  },
  {
   "cell_type": "code",
   "execution_count": 17,
   "metadata": {},
   "outputs": [],
   "source": [
    "m = add_total_discounted_costs_constraints(ds, m)"
   ]
  },
  {
   "attachments": {},
   "cell_type": "markdown",
   "metadata": {},
   "source": [
    "## Total Capacity Constraints"
   ]
  },
  {
   "cell_type": "code",
   "execution_count": 18,
   "metadata": {},
   "outputs": [],
   "source": [
    "m = add_total_capacity_constraints(ds, m)"
   ]
  },
  {
   "cell_type": "markdown",
   "metadata": {},
   "source": [
    "## New Capacity Constraints"
   ]
  },
  {
   "cell_type": "code",
   "execution_count": 19,
   "metadata": {},
   "outputs": [],
   "source": [
    "m = add_new_capacity_constraints(ds, m)"
   ]
  },
  {
   "attachments": {},
   "cell_type": "markdown",
   "metadata": {},
   "source": [
    "## Annual Activity Constraints"
   ]
  },
  {
   "cell_type": "code",
   "execution_count": 20,
   "metadata": {},
   "outputs": [],
   "source": [
    "m = add_annual_activity_constraints(ds, m)"
   ]
  },
  {
   "attachments": {},
   "cell_type": "markdown",
   "metadata": {},
   "source": [
    "## Total Activity Constraints"
   ]
  },
  {
   "cell_type": "code",
   "execution_count": 21,
   "metadata": {},
   "outputs": [],
   "source": [
    "m = add_total_activity_constraints(ds, m)"
   ]
  },
  {
   "attachments": {},
   "cell_type": "markdown",
   "metadata": {},
   "source": [
    "## Reserve Margin Constraints"
   ]
  },
  {
   "cell_type": "code",
   "execution_count": 22,
   "metadata": {},
   "outputs": [],
   "source": [
    "m = add_reserve_margin_constraints(ds, m)"
   ]
  },
  {
   "attachments": {},
   "cell_type": "markdown",
   "metadata": {},
   "source": [
    "## RE Production Target NTS: Should change demand for production"
   ]
  },
  {
   "cell_type": "code",
   "execution_count": 23,
   "metadata": {},
   "outputs": [],
   "source": [
    "m = add_re_targets_constraints(ds, m)"
   ]
  },
  {
   "cell_type": "code",
   "execution_count": 24,
   "metadata": {},
   "outputs": [
    {
     "data": {
      "text/plain": [
       "linopy.model.Constraints\n",
       "------------------------\n",
       " * EQ_SpecifiedDemand (REGION, TIMESLICE, FUEL, YEAR)\n",
       " * CAa1_TotalNewCapacity (REGION, TECHNOLOGY, YEAR)\n",
       " * CAa2_TotalAnnualCapacity (REGION, TECHNOLOGY, YEAR)\n",
       " * CAa3_TotalActivityOfEachTechnology (REGION, TIMESLICE, TECHNOLOGY, YEAR)\n",
       " * CAa4_Constraint_Capacity (REGION, TECHNOLOGY, TIMESLICE, YEAR)\n",
       " * CAa5_TotalNewCapacity (REGION, YEAR, TECHNOLOGY)\n",
       " * CAb1_PlannedMaintenance (YEAR, REGION, TECHNOLOGY)\n",
       " * EBa1_RateOfFuelProduction1 (REGION, FUEL, YEAR, TECHNOLOGY, MODE_OF_OPERATION, TIMESLICE)\n",
       " * EBa2_RateOfFuelProduction2 (REGION, TIMESLICE, TECHNOLOGY, FUEL, YEAR)\n",
       " * EBa3_RateOfFuelProduction3 (REGION, TIMESLICE, FUEL, YEAR)\n",
       " * EBa4_RateOfFuelUse1 (REGION, FUEL, YEAR, TECHNOLOGY, MODE_OF_OPERATION, TIMESLICE)\n",
       " * EBa5_RateOfFuelUse2 (REGION, TIMESLICE, TECHNOLOGY, FUEL, YEAR)\n",
       " * EBa6_RateOfFuelUse3 (REGION, TIMESLICE, FUEL, YEAR)\n",
       " * EBa7_EnergyBalanceEachTS1 (YEAR, TIMESLICE, REGION, FUEL)\n",
       " * EBa8_EnergyBalanceEachTS2 (YEAR, TIMESLICE, REGION, FUEL)\n",
       " * EBa9_EnergyBalanceEachTS3 (YEAR, TIMESLICE, REGION, FUEL)\n",
       " * EBa10_EnergyBalanceEachTS4 (REGION, _REGION, TIMESLICE, FUEL, YEAR)\n",
       " * EBa11_EnergyBalanceEachTS5 (REGION, TIMESLICE, FUEL, YEAR)\n",
       " * EBb1_EnergyBalanceEachYear1 (REGION, FUEL, YEAR)\n",
       " * EBb2_EnergyBalanceEachYear2 (REGION, FUEL, YEAR)\n",
       " * EBb3_EnergyBalanceEachYear3 (REGION, _REGION, FUEL, YEAR)\n",
       " * EBb4_EnergyBalanceEachYear4 (REGION, FUEL, YEAR)\n",
       " * Acc1_FuelProductionByTechnology (YEAR, TIMESLICE, REGION, TECHNOLOGY, FUEL)\n",
       " * Acc2_FuelUseByTechnology (YEAR, TIMESLICE, REGION, TECHNOLOGY, FUEL)\n",
       " * Acc3_AverageAnnualRateOfActivity (YEAR, REGION, TECHNOLOGY, MODE_OF_OPERATION)\n",
       " * Acc4_ModelPeriodCostByRegion (REGION)\n",
       " * CC1_UndiscountedCapitalInvestment (REGION, YEAR, TECHNOLOGY)\n",
       " * CC2_DiscountingCapitalInvestment (REGION, YEAR, TECHNOLOGY)\n",
       " * SV1_SalvageValueAtEndOfPeriod1 (REGION, TECHNOLOGY, YEAR)\n",
       " * SV2_SalvageValueAtEndOfPeriod2 (REGION, TECHNOLOGY, YEAR)\n",
       " * SV3_SalvageValueAtEndOfPeriod3 (REGION, TECHNOLOGY, YEAR)\n",
       " * SV4_SalvageValueDiscountedToStartYear (REGION, TECHNOLOGY, YEAR)\n",
       " * OC1_OperatingCostsVariable (REGION, YEAR, TECHNOLOGY)\n",
       " * OC2_OperatingCostsFixedAnnual (REGION, YEAR, TECHNOLOGY)\n",
       " * OC3_OperatingCostsTotalAnnual (REGION, TECHNOLOGY, YEAR)\n",
       " * OC4_DiscountedOperatingCostsTotalAnnual (REGION, YEAR, TECHNOLOGY)\n",
       " * TDC1_TotalDiscountedCostByTechnology (REGION, TECHNOLOGY, YEAR)\n",
       " * TDC2_TotalDiscountedCost (REGION, YEAR)\n",
       " * TCC1_TotalAnnualMaxCapacityConstraint (REGION, TECHNOLOGY, YEAR)\n",
       " * TCC2_TotalAnnualMinCapacityConstraint (REGION, TECHNOLOGY, YEAR)\n",
       " * NCC1_TotalAnnualMaxNewCapacityConstraint (REGION, TECHNOLOGY, YEAR)\n",
       " * NCC2_TotalAnnualMinNewCapacityConstraint (REGION, TECHNOLOGY, YEAR)\n",
       " * AAC1_TotalAnnualTechnologyActivity (YEAR, REGION, TECHNOLOGY)\n",
       " * AAC2_TotalAnnualTechnologyActivityUpperLimit (REGION, TECHNOLOGY, YEAR)\n",
       " * AAC3_TotalAnnualTechnologyActivityLowerLimit (REGION, TECHNOLOGY, YEAR)\n",
       " * TAC1_TotalModelHorizonTechnologyActivity (REGION, TECHNOLOGY)\n",
       " * TAC2_TotalModelHorizonTechnologyActivityUpperLimit (REGION, TECHNOLOGY)\n",
       " * TAC3_TotalModelHorizenTechnologyActivityLowerLimit (REGION, TECHNOLOGY)\n",
       " * RM1_ReserveMargin_TechnologiesIncluded_In_Activity_Units (REGION, YEAR, TECHNOLOGY)\n",
       " * RM2_ReserveMargin_FuelsIncluded (REGION, FUEL, YEAR, TIMESLICE)\n",
       " * RM3_ReserveMargin_Constraint (REGION, YEAR, TIMESLICE)\n",
       " * RE1_FuelProductionByTechnologyAnnual (REGION, TECHNOLOGY, FUEL, YEAR)\n",
       " * RE2_TechIncluded (REGION, YEAR, TECHNOLOGY, FUEL)\n",
       " * RE3_FuelIncluded (YEAR, TIMESLICE, REGION, FUEL)\n",
       " * RE4_EnergyConstraint (REGION, YEAR)\n",
       " * RE5_FuelUseByTechnologyAnnual (YEAR, REGION, TECHNOLOGY, FUEL)"
      ]
     },
     "execution_count": 24,
     "metadata": {},
     "output_type": "execute_result"
    }
   ],
   "source": [
    "m.constraints"
   ]
  },
  {
   "cell_type": "markdown",
   "metadata": {},
   "source": [
    "## Emissions"
   ]
  },
  {
   "cell_type": "code",
   "execution_count": 25,
   "metadata": {},
   "outputs": [],
   "source": [
    "m = add_emissions_constraints(ds, m, discount_factor_mid)"
   ]
  },
  {
   "cell_type": "markdown",
   "metadata": {},
   "source": [
    "# Objective Function\n",
    "```ampl\n",
    "minimize cost: sum{r in REGION, y in YEAR} TotalDiscountedCost[r,y];\n",
    "```"
   ]
  },
  {
   "cell_type": "code",
   "execution_count": 26,
   "metadata": {},
   "outputs": [],
   "source": [
    "objective = m['TotalDiscountedCost'].sum(dims=['REGION', 'YEAR'])\n",
    "m.add_objective(expr=objective, overwrite=True)"
   ]
  },
  {
   "cell_type": "markdown",
   "metadata": {},
   "source": [
    "# Solving"
   ]
  },
  {
   "cell_type": "code",
   "execution_count": 27,
   "metadata": {},
   "outputs": [
    {
     "name": "stderr",
     "output_type": "stream",
     "text": [
      "Writing constraints.: 100%|\u001b[38;2;128;191;255m██████████\u001b[0m| 62/62 [00:00<00:00, 288.53it/s]\n",
      "Writing continuous variables.: 100%|\u001b[38;2;128;191;255m██████████\u001b[0m| 49/49 [00:00<00:00, 683.02it/s]\n",
      "Writing integer variables.: 100%|\u001b[38;2;128;191;255m██████████\u001b[0m| 1/1 [00:00<00:00, 910.82it/s]\n"
     ]
    },
    {
     "data": {
      "text/plain": [
       "PosixPath('../results/model_one/model_one.lp')"
      ]
     },
     "execution_count": 27,
     "metadata": {},
     "output_type": "execute_result"
    }
   ],
   "source": [
    "results_path = f\"../results/{model_name}/\"\n",
    "if not os.path.exists(results_path):\n",
    "    os.makedirs(results_path)\n",
    "\n",
    "m.to_file(f'../results/{model_name}/{model_name}.lp')"
   ]
  },
  {
   "cell_type": "code",
   "execution_count": 28,
   "metadata": {},
   "outputs": [
    {
     "name": "stdout",
     "output_type": "stream",
     "text": [
      "['glpk', 'cbc']\n"
     ]
    }
   ],
   "source": [
    "print(available_solvers)"
   ]
  },
  {
   "cell_type": "code",
   "execution_count": 29,
   "metadata": {},
   "outputs": [
    {
     "name": "stderr",
     "output_type": "stream",
     "text": [
      "Writing constraints.: 100%|\u001b[38;2;128;191;255m██████████\u001b[0m| 62/62 [00:00<00:00, 281.58it/s]\n",
      "Writing continuous variables.: 100%|\u001b[38;2;128;191;255m██████████\u001b[0m| 49/49 [00:00<00:00, 688.80it/s]\n",
      "Writing integer variables.: 100%|\u001b[38;2;128;191;255m██████████\u001b[0m| 1/1 [00:00<00:00, 1098.85it/s]\n"
     ]
    },
    {
     "data": {
      "text/plain": [
       "('ok', 'optimal')"
      ]
     },
     "execution_count": 29,
     "metadata": {},
     "output_type": "execute_result"
    }
   ],
   "source": [
    "m.solve(solver_name='glpk', io_api='lp', log_fn=f'../results/{model_name}/solver.log')"
   ]
  },
  {
   "cell_type": "code",
   "execution_count": 30,
   "metadata": {},
   "outputs": [],
   "source": [
    "results_path = f\"../results/{model_name}/csv/\"\n",
    "if not os.path.exists(results_path):\n",
    "    os.makedirs(results_path)\n",
    "    \n",
    "for variable, data in m.solution.items():\n",
    "    data = data.to_dataframe(name=variable)\n",
    "    data[data[variable] != 0.0].to_csv(f\"../results/{model_name}/csv/{variable}.csv\")"
   ]
  }
 ],
 "metadata": {
  "kernelspec": {
   "display_name": "osemosys_linopy",
   "language": "python",
   "name": "python3"
  },
  "language_info": {
   "codemirror_mode": {
    "name": "ipython",
    "version": 3
   },
   "file_extension": ".py",
   "mimetype": "text/x-python",
   "name": "python",
   "nbconvert_exporter": "python",
   "pygments_lexer": "ipython3",
   "version": "3.11.7"
  }
 },
 "nbformat": 4,
 "nbformat_minor": 2
}
