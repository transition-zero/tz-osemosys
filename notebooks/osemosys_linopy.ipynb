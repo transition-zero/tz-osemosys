{
 "cells": [
  {
   "cell_type": "code",
   "execution_count": null,
   "metadata": {},
   "outputs": [],
   "source": [
    "import otoole\n",
    "print(otoole.__version__)\n",
    "from otoole import read\n",
    "import os\n",
    "import sys\n",
    "sys.path.append('../')\n",
    "\n",
    "# Suppress FutureWarning messages\n",
    "import warnings\n",
    "warnings.simplefilter(action='ignore', category=FutureWarning)\n",
    "\n",
    "from otoole.utils import (\n",
    "    _read_file,\n",
    ")\n",
    "import xarray as xr\n",
    "\n",
    "import logging\n",
    "\n",
    "#from tzmosys.variables import add_variables\n",
    "\n",
    "from tz.osemosys.model.variables.activity import *\n",
    "from tz.osemosys.model.variables.capacity import *\n",
    "from tz.osemosys.model.variables.demand import *\n",
    "from tz.osemosys.model.variables.emissions import *\n",
    "from tz.osemosys.model.variables.other import *\n",
    "from tz.osemosys.model.variables.storage import *\n",
    "\n",
    "from tz.osemosys.model.constraints.demand import *\n",
    "from tz.osemosys.model.constraints.capacity_adequacy_a import *\n",
    "from tz.osemosys.model.constraints.capacity_adequacy_b import *\n",
    "from tz.osemosys.model.constraints.energy_balance_a import *\n",
    "from tz.osemosys.model.constraints.energy_balance_b import *\n",
    "from tz.osemosys.model.constraints.accounting_technology import *\n",
    "from tz.osemosys.model.constraints.capital_costs import *\n",
    "from tz.osemosys.model.constraints.operating_costs import *\n",
    "from tz.osemosys.model.constraints.total_discounted_costs import *\n",
    "from tz.osemosys.model.constraints.total_capacity import *\n",
    "from tz.osemosys.model.constraints.new_capacity import *\n",
    "from tz.osemosys.model.constraints.annual_activity import *\n",
    "from tz.osemosys.model.constraints.total_activity import *\n",
    "from tz.osemosys.model.constraints.salvage_value import *\n",
    "from tz.osemosys.model.constraints.reserve_margin import *\n",
    "from tz.osemosys.model.constraints.re_targets import *\n",
    "from tz.osemosys.model.constraints.emissions import *\n",
    "from tz.osemosys.model.constraints.storage import *\n",
    "\n",
    "logger = logging.getLogger(__name__)"
   ]
  },
  {
   "cell_type": "code",
   "execution_count": null,
   "metadata": {},
   "outputs": [],
   "source": [
    "model_name = 'otoole-full-electricity-storage'\n",
    "config_path = os.path.join('../examples/otoole_compat/config_files', f'{model_name}.yaml')\n",
    "folder_path = os.path.join('../examples/otoole_compat/input_csv', model_name)\n",
    "\n",
    "print(config_path, folder_path)"
   ]
  },
  {
   "cell_type": "code",
   "execution_count": null,
   "metadata": {},
   "outputs": [],
   "source": [
    "with open(config_path, \"r\") as config_file:\n",
    "    config = _read_file(config_file, '.yaml')\n",
    "\n",
    "model, defaults = read(config_path, 'csv', folder_path)\n",
    "\n",
    "# Reshape the CSV files to create the dataset of sets and parameters\n",
    "# If the sparse package is available (Python <3.11)\n",
    "# data_vars = {x: xr.DataArray().from_series(y.VALUE, sparse=True) for x, y in model.items() if config[x]['type'] == 'param'}\n",
    "data_vars = {x: y.VALUE.to_xarray() for x, y in model.items() if config[x]['type'] == 'param'}\n",
    "coords = {x: y.values.T[0] for x, y in model.items() if config[x]['type'] == 'set'}\n",
    "ds = xr.Dataset(data_vars=data_vars, coords=coords)\n",
    "ds = ds.assign_coords({'_REGION': model['REGION'].values.T[0]})\n",
    "\n",
    "for param, default in defaults.items():\n",
    "    if config[param]['type'] == 'param':\n",
    "        ds[param].attrs['default'] = default\n",
    "        if default != 0:\n",
    "            ds[param] = ds[param].fillna(default)\n",
    "# ds.to_netcdf(f'{model_name}.nc', engine='netcdf4')\n",
    "# ds = xr.open_dataset(f'{model_name}.nc')\n",
    "# ds = ds.drop_sel(YEAR=range(2025, 2071))"
   ]
  },
  {
   "cell_type": "markdown",
   "metadata": {},
   "source": [
    "# Model Creation"
   ]
  },
  {
   "cell_type": "code",
   "execution_count": null,
   "metadata": {},
   "outputs": [],
   "source": [
    "# client = Client()\n",
    "# client"
   ]
  },
  {
   "cell_type": "code",
   "execution_count": null,
   "metadata": {},
   "outputs": [],
   "source": [
    "from linopy import Model, solvers, available_solvers\n",
    "\n",
    "chunks = {\n",
    "    'YEAR': ds.YEAR.size,\n",
    "    'TIMESLICE': ds.TIMESLICE.size,\n",
    "    'REGION': 1,\n",
    "    'TECHNOLOGY': 100,\n",
    "    'FUEL': 100,\n",
    "    'MODE_OF_OPERATION': ds.MODE_OF_OPERATION.size,\n",
    "    'SEASON': ds.SEASON.size\n",
    "}\n",
    "\n",
    "m = Model(force_dim_names=True) #, chunk='auto')"
   ]
  },
  {
   "cell_type": "markdown",
   "metadata": {},
   "source": [
    "## Variables"
   ]
  },
  {
   "cell_type": "code",
   "execution_count": null,
   "metadata": {},
   "outputs": [],
   "source": [
    "#m = add_variables(ds, m)\n",
    "\n",
    "m = add_activity_variables(ds, m)\n",
    "m = add_capacity_variables(ds, m)\n",
    "m = add_demand_variables(ds, m)\n",
    "m = add_emission_variables(ds, m)\n",
    "m = add_cost_variables(ds, m)\n",
    "m = add_storage_variables(ds, m)"
   ]
  },
  {
   "attachments": {},
   "cell_type": "markdown",
   "metadata": {},
   "source": [
    "## Discounting\n",
    "\n",
    "```ampl\n",
    "param DiscountRate{r in REGION};\n",
    "param DiscountRateIdv{r in REGION, t in TECHNOLOGY}, default DiscountRate[r];\n",
    "\n",
    "param DiscountFactor{r in REGION, y in YEAR} :=\n",
    "\t(1 + DiscountRate[r]) ^ (y - min{yy in YEAR} min(yy) + 0.0);\n",
    "param DiscountFactorMid{r in REGION, y in YEAR} :=\n",
    "\t(1 + DiscountRate[r]) ^ (y - min{yy in YEAR} min(yy) + 0.5);\n",
    "\n",
    "param OperationalLife{r in REGION, t in TECHNOLOGY};\n",
    "\n",
    "param CapitalRecoveryFactor{r in REGION, t in TECHNOLOGY} :=\n",
    "\t(1 - (1 + DiscountRateIdv[r,t])^(-1))/(1 - (1 + DiscountRateIdv[r,t])^(-(OperationalLife[r,t])));\n",
    "param PvAnnuity{r in REGION, t in TECHNOLOGY} :=\n",
    "\t(1 - (1 + DiscountRate[r])^(-(OperationalLife[r,t]))) * (1 + DiscountRate[r]) / DiscountRate[r];\n",
    "\n",
    "param DiscountRateStorage{r in REGION, s in STORAGE};\n",
    "param DiscountFactorStorage{r in REGION, s in STORAGE, y in YEAR} :=\n",
    "\t(1 + DiscountRateStorage[r, s]) ^ (y - min{yy in YEAR} min(yy) + 0.0);\n",
    "param DiscountFactorMidStorage{r in REGION, s in STORAGE, y in YEAR} :=\n",
    "\t(1 + DiscountRateStorage[r, s]) ^ (y - min{yy in YEAR} min(yy) + 0.5);\n",
    "```"
   ]
  },
  {
   "cell_type": "code",
   "execution_count": null,
   "metadata": {},
   "outputs": [],
   "source": [
    "discount_factor = ((1 + ds['DiscountRate']) ** (ds.coords['YEAR'] - min(ds.coords['YEAR'])))\n",
    "discount_factor_mid = ((1 + ds['DiscountRate']) ** (ds.coords['YEAR'] - min(ds.coords['YEAR']) + 0.5))\n",
    "\n",
    "discount_factor_idv = ((1 + ds['DiscountRateIdv']) ** (ds.coords['YEAR'] - min(ds.coords['YEAR'])))\n",
    "discount_factor_mid_idv = ((1 + ds['DiscountRateIdv']) ** (ds.coords['YEAR'] - min(ds.coords['YEAR']) + 0.5))\n",
    "\n",
    "pv_annuity = (1 - (1 + ds['DiscountRateIdv'])**(-(ds['OperationalLife']))) * (1 + ds['DiscountRateIdv']) / ds['DiscountRateIdv']\n",
    "\n",
    "capital_recovery_factor = (1 - (1 + ds['DiscountRateIdv'])**(-1))/(1 - (1 + ds['DiscountRateIdv'])**(-(ds['OperationalLife'])))"
   ]
  },
  {
   "cell_type": "markdown",
   "metadata": {},
   "source": [
    "# Constraints"
   ]
  },
  {
   "attachments": {},
   "cell_type": "markdown",
   "metadata": {},
   "source": [
    "## Storage"
   ]
  },
  {
   "cell_type": "code",
   "execution_count": null,
   "metadata": {},
   "outputs": [],
   "source": [
    "m = add_storage_constraints(ds, m)"
   ]
  },
  {
   "cell_type": "markdown",
   "metadata": {},
   "source": [
    "## Demand"
   ]
  },
  {
   "cell_type": "code",
   "execution_count": null,
   "metadata": {},
   "outputs": [],
   "source": [
    "m = add_demand_constraints(ds, m)"
   ]
  },
  {
   "cell_type": "markdown",
   "metadata": {},
   "source": [
    "## Capacity Adequacy A"
   ]
  },
  {
   "cell_type": "code",
   "execution_count": null,
   "metadata": {},
   "outputs": [],
   "source": [
    "m = add_capacity_adequacy_a_constraints(ds, m)"
   ]
  },
  {
   "cell_type": "markdown",
   "metadata": {},
   "source": [
    "## Capacity Adequacy B"
   ]
  },
  {
   "cell_type": "code",
   "execution_count": null,
   "metadata": {},
   "outputs": [],
   "source": [
    "m = add_capacity_adequacy_b_constraints(ds, m)"
   ]
  },
  {
   "cell_type": "markdown",
   "metadata": {},
   "source": [
    "## Energy Balance A"
   ]
  },
  {
   "cell_type": "code",
   "execution_count": null,
   "metadata": {},
   "outputs": [],
   "source": [
    "m = add_energy_balance_a_constraints(ds, m)"
   ]
  },
  {
   "attachments": {},
   "cell_type": "markdown",
   "metadata": {},
   "source": [
    "## Energy Balance B"
   ]
  },
  {
   "cell_type": "code",
   "execution_count": null,
   "metadata": {},
   "outputs": [],
   "source": [
    "m = add_energy_balance_b_constraints(ds, m)"
   ]
  },
  {
   "attachments": {},
   "cell_type": "markdown",
   "metadata": {},
   "source": [
    "## Accounting Technology Production/Use"
   ]
  },
  {
   "cell_type": "code",
   "execution_count": null,
   "metadata": {},
   "outputs": [],
   "source": [
    "m = add_accounting_technology_constraints(ds, m)"
   ]
  },
  {
   "attachments": {},
   "cell_type": "markdown",
   "metadata": {},
   "source": [
    "## Capital Costs"
   ]
  },
  {
   "cell_type": "code",
   "execution_count": null,
   "metadata": {},
   "outputs": [],
   "source": [
    "m = add_capital_costs_constraints(ds, m)"
   ]
  },
  {
   "attachments": {},
   "cell_type": "markdown",
   "metadata": {},
   "source": [
    "## Salvage Value"
   ]
  },
  {
   "cell_type": "code",
   "execution_count": null,
   "metadata": {},
   "outputs": [],
   "source": [
    "m = add_salvage_value_constraints(ds, m)"
   ]
  },
  {
   "attachments": {},
   "cell_type": "markdown",
   "metadata": {},
   "source": [
    "## Operating Costs"
   ]
  },
  {
   "cell_type": "code",
   "execution_count": null,
   "metadata": {},
   "outputs": [],
   "source": [
    "m = add_operating_costs_constraints(ds, m)"
   ]
  },
  {
   "attachments": {},
   "cell_type": "markdown",
   "metadata": {},
   "source": [
    "## Total Discounted Costs"
   ]
  },
  {
   "cell_type": "code",
   "execution_count": null,
   "metadata": {},
   "outputs": [],
   "source": [
    "m = add_total_discounted_costs_constraints(ds, m)"
   ]
  },
  {
   "attachments": {},
   "cell_type": "markdown",
   "metadata": {},
   "source": [
    "## Total Capacity Constraints"
   ]
  },
  {
   "cell_type": "code",
   "execution_count": null,
   "metadata": {},
   "outputs": [],
   "source": [
    "m = add_total_capacity_constraints(ds, m)"
   ]
  },
  {
   "cell_type": "markdown",
   "metadata": {},
   "source": [
    "## New Capacity Constraints"
   ]
  },
  {
   "cell_type": "code",
   "execution_count": null,
   "metadata": {},
   "outputs": [],
   "source": [
    "m = add_new_capacity_constraints(ds, m)"
   ]
  },
  {
   "attachments": {},
   "cell_type": "markdown",
   "metadata": {},
   "source": [
    "## Annual Activity Constraints"
   ]
  },
  {
   "cell_type": "code",
   "execution_count": null,
   "metadata": {},
   "outputs": [],
   "source": [
    "m = add_annual_activity_constraints(ds, m)"
   ]
  },
  {
   "attachments": {},
   "cell_type": "markdown",
   "metadata": {},
   "source": [
    "## Total Activity Constraints"
   ]
  },
  {
   "cell_type": "code",
   "execution_count": null,
   "metadata": {},
   "outputs": [],
   "source": [
    "m = add_total_activity_constraints(ds, m)"
   ]
  },
  {
   "attachments": {},
   "cell_type": "markdown",
   "metadata": {},
   "source": [
    "## Reserve Margin Constraints"
   ]
  },
  {
   "cell_type": "code",
   "execution_count": null,
   "metadata": {},
   "outputs": [],
   "source": [
    "m = add_reserve_margin_constraints(ds, m)"
   ]
  },
  {
   "cell_type": "code",
   "execution_count": null,
   "metadata": {},
   "outputs": [],
   "source": [
    "m.constraints['RM3_ReserveMargin_Constraint']"
   ]
  },
  {
   "attachments": {},
   "cell_type": "markdown",
   "metadata": {},
   "source": [
    "## RE Production Target NTS: Should change demand for production"
   ]
  },
  {
   "cell_type": "code",
   "execution_count": null,
   "metadata": {},
   "outputs": [],
   "source": [
    "m = add_re_targets_constraints(ds, m)"
   ]
  },
  {
   "cell_type": "markdown",
   "metadata": {},
   "source": [
    "## Emissions"
   ]
  },
  {
   "cell_type": "code",
   "execution_count": null,
   "metadata": {},
   "outputs": [],
   "source": [
    "m = add_emissions_constraints(ds, m)"
   ]
  },
  {
   "cell_type": "markdown",
   "metadata": {},
   "source": [
    "# Objective Function\n",
    "```ampl\n",
    "minimize cost: sum{r in REGION, y in YEAR} TotalDiscountedCost[r,y];\n",
    "```"
   ]
  },
  {
   "cell_type": "code",
   "execution_count": null,
   "metadata": {},
   "outputs": [],
   "source": [
    "objective = m['TotalDiscountedCost'].sum(dims=['REGION', 'YEAR'])\n",
    "m.add_objective(expr=objective, overwrite=True)"
   ]
  },
  {
   "cell_type": "markdown",
   "metadata": {},
   "source": [
    "# Solving"
   ]
  },
  {
   "cell_type": "code",
   "execution_count": null,
   "metadata": {},
   "outputs": [],
   "source": [
    "results_path = f\"../results/{model_name}/\"\n",
    "if not os.path.exists(results_path):\n",
    "    os.makedirs(results_path)"
   ]
  },
  {
   "cell_type": "code",
   "execution_count": null,
   "metadata": {},
   "outputs": [],
   "source": [
    "m.solve(solver_name='cbc', log_fn=f'../results/{model_name}/solver.log')"
   ]
  },
  {
   "cell_type": "code",
   "execution_count": null,
   "metadata": {},
   "outputs": [],
   "source": [
    "results_path = f\"../results/{model_name}/csv/\"\n",
    "if not os.path.exists(results_path):\n",
    "    os.makedirs(results_path)\n",
    "    \n",
    "for variable, data in m.solution.items():\n",
    "    data = data.to_dataframe(name=variable)\n",
    "    data[data[variable] != 0.0].to_csv(f\"../results/{model_name}/csv/{variable}.csv\")"
   ]
  }
 ],
 "metadata": {
  "kernelspec": {
   "display_name": "osemosys_linopy",
   "language": "python",
   "name": "osemosys_linopy"
  },
  "language_info": {
   "codemirror_mode": {
    "name": "ipython",
    "version": 3
   },
   "file_extension": ".py",
   "mimetype": "text/x-python",
   "name": "python",
   "nbconvert_exporter": "python",
   "pygments_lexer": "ipython3",
   "version": "3.11.7"
  }
 },
 "nbformat": 4,
 "nbformat_minor": 2
}
