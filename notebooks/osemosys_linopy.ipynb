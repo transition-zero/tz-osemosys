{
 "cells": [
  {
   "cell_type": "code",
   "execution_count": 1,
   "metadata": {},
   "outputs": [
    {
     "name": "stdout",
     "output_type": "stream",
     "text": [
      "1.1.2\n"
     ]
    }
   ],
   "source": [
    "import otoole\n",
    "print(otoole.__version__)\n",
    "from otoole import read\n",
    "import os\n",
    "import sys\n",
    "sys.path.append('../')\n",
    "\n",
    "# Suppress FutureWarning messages\n",
    "import warnings\n",
    "warnings.simplefilter(action='ignore', category=FutureWarning)\n",
    "\n",
    "from otoole.utils import (\n",
    "    _read_file,\n",
    ")\n",
    "import xarray as xr\n",
    "\n",
    "import logging\n",
    "\n",
    "from feo.osemosys.variables import add_variables\n",
    "from feo.osemosys.model.constraints.demand import *\n",
    "from feo.osemosys.model.constraints.capacity_adequacy_a import *\n",
    "from feo.osemosys.model.constraints.capacity_adequacy_b import *\n",
    "from feo.osemosys.model.constraints.energy_balance_a import *\n",
    "from feo.osemosys.model.constraints.energy_balance_b import *\n",
    "from feo.osemosys.model.constraints.accounting_technology import *\n",
    "from feo.osemosys.model.constraints.capital_costs import *\n",
    "from feo.osemosys.model.constraints.operating_costs import *\n",
    "from feo.osemosys.model.constraints.total_dscounted_costs import *\n",
    "\n",
    "logger = logging.getLogger(__name__)"
   ]
  },
  {
   "cell_type": "code",
   "execution_count": 2,
   "metadata": {},
   "outputs": [
    {
     "name": "stdout",
     "output_type": "stream",
     "text": [
      "../tests/data/model_one.yaml ../tests/data/model_one\n"
     ]
    }
   ],
   "source": [
    "model_name = 'model_one'\n",
    "config_path = os.path.join('../tests/data', f'{model_name}.yaml')\n",
    "folder_path = os.path.join('../tests/data', model_name)\n",
    "\n",
    "print(config_path, folder_path)"
   ]
  },
  {
   "cell_type": "code",
   "execution_count": 3,
   "metadata": {},
   "outputs": [],
   "source": [
    "with open(config_path, \"r\") as config_file:\n",
    "    config = _read_file(config_file, '.yaml')\n",
    "\n",
    "model, defaults = read(config_path, 'csv', folder_path)\n",
    "\n",
    "# Reshape the CSV files to create the dataset of sets and parameters\n",
    "# If the sparse package is available (Python <3.11)\n",
    "# data_vars = {x: xr.DataArray().from_series(y.VALUE, sparse=True) for x, y in model.items() if config[x]['type'] == 'param'}\n",
    "data_vars = {x: y.VALUE.to_xarray() for x, y in model.items() if config[x]['type'] == 'param'}\n",
    "coords = {x: y.values.T[0] for x, y in model.items() if config[x]['type'] == 'set'}\n",
    "ds = xr.Dataset(data_vars=data_vars, coords=coords)\n",
    "ds = ds.assign_coords({'_REGION': model['REGION'].values.T[0]})\n",
    "\n",
    "for param, default in defaults.items():\n",
    "    if config[param]['type'] == 'param':\n",
    "        ds[param].attrs['default'] = default\n",
    "        if default != 0:\n",
    "            ds[param] = ds[param].fillna(default)\n",
    "# ds.to_netcdf(f'{model_name}.nc', engine='netcdf4')\n",
    "# ds = xr.open_dataset(f'{model_name}.nc')\n",
    "# ds = ds.drop_sel(YEAR=range(2025, 2071))"
   ]
  },
  {
   "cell_type": "markdown",
   "metadata": {},
   "source": [
    "# Model Creation"
   ]
  },
  {
   "cell_type": "code",
   "execution_count": 4,
   "metadata": {},
   "outputs": [],
   "source": [
    "# client = Client()\n",
    "# client"
   ]
  },
  {
   "cell_type": "code",
   "execution_count": 5,
   "metadata": {},
   "outputs": [],
   "source": [
    "from linopy import Model, solvers, available_solvers\n",
    "\n",
    "chunks = {\n",
    "    'YEAR': ds.YEAR.size,\n",
    "    'TIMESLICE': ds.TIMESLICE.size,\n",
    "    'REGION': 1,\n",
    "    'TECHNOLOGY': 100,\n",
    "    'FUEL': 100,\n",
    "    'MODE_OF_OPERATION': ds.MODE_OF_OPERATION.size,\n",
    "    'SEASON': ds.SEASON.size\n",
    "}\n",
    "\n",
    "m = Model(force_dim_names=True) #, chunk='auto')"
   ]
  },
  {
   "cell_type": "markdown",
   "metadata": {},
   "source": [
    "## Variables"
   ]
  },
  {
   "cell_type": "code",
   "execution_count": 6,
   "metadata": {},
   "outputs": [],
   "source": [
    "m = add_variables(ds, m)"
   ]
  },
  {
   "attachments": {},
   "cell_type": "markdown",
   "metadata": {},
   "source": [
    "## Discounting\n",
    "\n",
    "```ampl\n",
    "param DiscountRate{r in REGION};\n",
    "param DiscountRateIdv{r in REGION, t in TECHNOLOGY}, default DiscountRate[r];\n",
    "\n",
    "param DiscountFactor{r in REGION, y in YEAR} :=\n",
    "\t(1 + DiscountRate[r]) ^ (y - min{yy in YEAR} min(yy) + 0.0);\n",
    "param DiscountFactorMid{r in REGION, y in YEAR} :=\n",
    "\t(1 + DiscountRate[r]) ^ (y - min{yy in YEAR} min(yy) + 0.5);\n",
    "\n",
    "param OperationalLife{r in REGION, t in TECHNOLOGY};\n",
    "\n",
    "param CapitalRecoveryFactor{r in REGION, t in TECHNOLOGY} :=\n",
    "\t(1 - (1 + DiscountRateIdv[r,t])^(-1))/(1 - (1 + DiscountRateIdv[r,t])^(-(OperationalLife[r,t])));\n",
    "param PvAnnuity{r in REGION, t in TECHNOLOGY} :=\n",
    "\t(1 - (1 + DiscountRate[r])^(-(OperationalLife[r,t]))) * (1 + DiscountRate[r]) / DiscountRate[r];\n",
    "\n",
    "param DiscountRateStorage{r in REGION, s in STORAGE};\n",
    "param DiscountFactorStorage{r in REGION, s in STORAGE, y in YEAR} :=\n",
    "\t(1 + DiscountRateStorage[r, s]) ^ (y - min{yy in YEAR} min(yy) + 0.0);\n",
    "param DiscountFactorMidStorage{r in REGION, s in STORAGE, y in YEAR} :=\n",
    "\t(1 + DiscountRateStorage[r, s]) ^ (y - min{yy in YEAR} min(yy) + 0.5);\n",
    "```"
   ]
  },
  {
   "cell_type": "code",
   "execution_count": 7,
   "metadata": {},
   "outputs": [],
   "source": [
    "discount_factor = ((1 + ds['DiscountRate']) ** (ds.coords['YEAR'] - min(ds.coords['YEAR'])))\n",
    "discount_factor_mid = ((1 + ds['DiscountRate']) ** (ds.coords['YEAR'] - min(ds.coords['YEAR']) + 0.5))\n",
    "\n",
    "discount_factor_idv = ((1 + ds['DiscountRateIdv']) ** (ds.coords['YEAR'] - min(ds.coords['YEAR'])))\n",
    "discount_factor_mid_idv = ((1 + ds['DiscountRateIdv']) ** (ds.coords['YEAR'] - min(ds.coords['YEAR']) + 0.5))\n",
    "\n",
    "pv_annuity = (1 - (1 + ds['DiscountRateIdv'])**(-(ds['OperationalLife']))) * (1 + ds['DiscountRateIdv']) / ds['DiscountRateIdv']\n",
    "\n",
    "capital_recovery_factor = (1 - (1 + ds['DiscountRateIdv'])**(-1))/(1 - (1 + ds['DiscountRateIdv'])**(-(ds['OperationalLife'])))"
   ]
  },
  {
   "cell_type": "markdown",
   "metadata": {},
   "source": [
    "# Constraints"
   ]
  },
  {
   "attachments": {},
   "cell_type": "markdown",
   "metadata": {},
   "source": [
    "## Storage\n",
    "\n",
    "```ampl\n",
    "s.t. S1_RateOfStorageCharge{r in REGION, s in STORAGE, ls in SEASON, ld in DAYTYPE, lh in DAILYTIMEBRACKET, y in YEAR}:\n",
    "\tsum{t in TECHNOLOGY, m in MODE_OF_OPERATION, l in TIMESLICE: TechnologyToStorage[r,t,s,m] > 0}\n",
    "\tRateOfActivity[r,l,t,m,y] * TechnologyToStorage[r,t,s,m] * Conversionls[l,ls] * Conversionld[l,ld] * Conversionlh[l,lh]\n",
    "\t=\n",
    "\tRateOfStorageCharge[r,s,ls,ld,lh,y];\n",
    "\n",
    "s.t. S2_RateOfStorageDischarge{r in REGION, s in STORAGE, ls in SEASON, ld in DAYTYPE, lh in DAILYTIMEBRACKET, y in YEAR}:\n",
    "\tsum{t in TECHNOLOGY, m in MODE_OF_OPERATION, l in TIMESLICE: TechnologyFromStorage[r,t,s,m] > 0}\n",
    "\tRateOfActivity[r,l,t,m,y] * TechnologyFromStorage[r,t,s,m] * Conversionls[l,ls] * Conversionld[l,ld] * Conversionlh[l,lh]\n",
    "\t=\n",
    "\tRateOfStorageDischarge[r,s,ls,ld,lh,y];\n",
    "\n",
    "s.t. S3_NetChargeWithinYear{r in REGION, s in STORAGE, ls in SEASON, ld in DAYTYPE, lh in DAILYTIMEBRACKET, y in YEAR}:\n",
    "\tsum{l in TIMESLICE:Conversionls[l,ls]>0 && Conversionld[l,ld] > 0 && Conversionlh[l,lh] > 0}\n",
    "\t(RateOfStorageCharge[r,s,ls,ld,lh,y] - RateOfStorageDischarge[r,s,ls,ld,lh,y]) * YearSplit[l,y] *\n",
    "\tConversionls[l,ls] * Conversionld[l,ld] * Conversionlh[l,lh]\n",
    "\t=\n",
    "\tNetChargeWithinYear[r,s,ls,ld,lh,y];\n",
    "\n",
    "s.t. S4_NetChargeWithinDay{r in REGION, s in STORAGE, ls in SEASON, ld in DAYTYPE, lh in DAILYTIMEBRACKET, y in YEAR}:\n",
    "\t(RateOfStorageCharge[r,s,ls,ld,lh,y] - RateOfStorageDischarge[r,s,ls,ld,lh,y]) * DaySplit[lh,y]\n",
    "\t=\n",
    "\tNetChargeWithinDay[r,s,ls,ld,lh,y];\n",
    "\n",
    "s.t. S5_and_S6_StorageLevelYearStart{r in REGION, s in STORAGE, y in YEAR}:\n",
    "\tif y = min{yy in YEAR} min(yy)\n",
    "\tthen StorageLevelStart[r,s]\n",
    "\telse StorageLevelYearStart[r,s,y-1] + sum{ls in SEASON, ld in DAYTYPE, lh in DAILYTIMEBRACKET}\n",
    "\tNetChargeWithinYear[r,s,ls,ld,lh,y-1]\n",
    "\t=\n",
    "\tStorageLevelYearStart[r,s,y];\n",
    "\n",
    "s.t. S7_and_S8_StorageLevelYearFinish{r in REGION, s in STORAGE, y in YEAR}:\n",
    "\tif y < max{yy in YEAR} max(yy)\n",
    "\tthen StorageLevelYearStart[r,s,y+1]\n",
    "\telse StorageLevelYearStart[r,s,y] + sum{ls in SEASON, ld in DAYTYPE, lh in DAILYTIMEBRACKET}\n",
    "\tNetChargeWithinYear[r,s,ls,ld,lh,y]\n",
    "\t=\n",
    "\tStorageLevelYearFinish[r,s,y];\n",
    "\n",
    "s.t. S9_and_S10_StorageLevelSeasonStart{r in REGION, s in STORAGE, ls in SEASON, y in YEAR}:\n",
    "\tif ls = min{lsls in SEASON} min(lsls)\n",
    "\tthen StorageLevelYearStart[r,s,y]\n",
    "\telse StorageLevelSeasonStart[r,s,ls-1,y] + sum{ld in DAYTYPE, lh in DAILYTIMEBRACKET}\n",
    "\tNetChargeWithinYear[r,s,ls-1,ld,lh,y]\n",
    "\t=\n",
    "\tStorageLevelSeasonStart[r,s,ls,y];\n",
    "\n",
    "s.t. S11_and_S12_StorageLevelDayTypeStart{r in REGION, s in STORAGE, ls in SEASON, ld in DAYTYPE, y in YEAR}:\n",
    "\tif ld = min{ldld in DAYTYPE} min(ldld)\n",
    "\tthen StorageLevelSeasonStart[r,s,ls,y]\n",
    "\telse StorageLevelDayTypeStart[r,s,ls,ld-1,y] + sum{lh in DAILYTIMEBRACKET}\n",
    "\tNetChargeWithinDay[r,s,ls,ld-1,lh,y] * DaysInDayType[ls,ld-1,y]\n",
    "\t=\n",
    "\tStorageLevelDayTypeStart[r,s,ls,ld,y];\n",
    "\n",
    "s.t. S13_and_S14_and_S15_StorageLevelDayTypeFinish{r in REGION, s in STORAGE, ls in SEASON, ld in DAYTYPE, y in YEAR}:\n",
    "\tif ls = max{lsls in SEASON} max(lsls) && ld = max{ldld in DAYTYPE} max(ldld)\n",
    "\tthen StorageLevelYearFinish[r,s,y]\n",
    "\telse if ld = max{ldld in DAYTYPE} max(ldld)\n",
    "\tthen StorageLevelSeasonStart[r,s,ls+1,y]\n",
    "\telse StorageLevelDayTypeFinish[r,s,ls,ld+1,y] - sum{lh in DAILYTIMEBRACKET}\n",
    "\tNetChargeWithinDay[r,s,ls,ld+1,lh,y] * DaysInDayType[ls,ld+1,y]\n",
    "\t=\n",
    "\tStorageLevelDayTypeFinish[r,s,ls,ld,y];\n",
    "\n",
    "#\n",
    "##########\t\tStorage Constraints\t\t\t\t#############\n",
    "#\n",
    "s.t. SC1_LowerLimit_BeginningOfDailyTimeBracketOfFirstInstanceOfDayTypeInFirstWeekConstraint{r in REGION, s in STORAGE, ls in SEASON, ld in DAYTYPE, lh in DAILYTIMEBRACKET, y in YEAR}: 0 <= (StorageLevelDayTypeStart[r,s,ls,ld,y]+sum{lhlh in DAILYTIMEBRACKET:lh-lhlh>0} NetChargeWithinDay[r,s,ls,ld,lhlh,y])-StorageLowerLimit[r,s,y];\n",
    "s.t. SC1_UpperLimit_BeginningOfDailyTimeBracketOfFirstInstanceOfDayTypeInFirstWeekConstraint{r in REGION, s in STORAGE, ls in SEASON, ld in DAYTYPE, lh in DAILYTIMEBRACKET, y in YEAR}: (StorageLevelDayTypeStart[r,s,ls,ld,y]+sum{lhlh in DAILYTIMEBRACKET:lh-lhlh>0} NetChargeWithinDay[r,s,ls,ld,lhlh,y])-StorageUpperLimit[r,s,y] <= 0;\n",
    "s.t. SC2_LowerLimit_EndOfDailyTimeBracketOfLastInstanceOfDayTypeInFirstWeekConstraint{r in REGION, s in STORAGE, ls in SEASON, ld in DAYTYPE, lh in DAILYTIMEBRACKET, y in YEAR}: 0 <= if ld > min{ldld in DAYTYPE} min(ldld) then (StorageLevelDayTypeStart[r,s,ls,ld,y]-sum{lhlh in DAILYTIMEBRACKET:lh-lhlh<0} NetChargeWithinDay[r,s,ls,ld-1,lhlh,y])-StorageLowerLimit[r,s,y];\n",
    "s.t. SC2_UpperLimit_EndOfDailyTimeBracketOfLastInstanceOfDayTypeInFirstWeekConstraint{r in REGION, s in STORAGE, ls in SEASON, ld in DAYTYPE, lh in DAILYTIMEBRACKET, y in YEAR}: if ld > min{ldld in DAYTYPE} min(ldld) then (StorageLevelDayTypeStart[r,s,ls,ld,y]-sum{lhlh in DAILYTIMEBRACKET:lh-lhlh<0} NetChargeWithinDay[r,s,ls,ld-1,lhlh,y])-StorageUpperLimit[r,s,y] <= 0;\n",
    "s.t. SC3_LowerLimit_EndOfDailyTimeBracketOfLastInstanceOfDayTypeInLastWeekConstraint{r in REGION, s in STORAGE, ls in SEASON, ld in DAYTYPE, lh in DAILYTIMEBRACKET, y in YEAR}:  0 <= (StorageLevelDayTypeFinish[r,s,ls,ld,y] - sum{lhlh in DAILYTIMEBRACKET:lh-lhlh<0} NetChargeWithinDay[r,s,ls,ld,lhlh,y])-StorageLowerLimit[r,s,y];\n",
    "s.t. SC3_UpperLimit_EndOfDailyTimeBracketOfLastInstanceOfDayTypeInLastWeekConstraint{r in REGION, s in STORAGE, ls in SEASON, ld in DAYTYPE, lh in DAILYTIMEBRACKET, y in YEAR}:  (StorageLevelDayTypeFinish[r,s,ls,ld,y] - sum{lhlh in DAILYTIMEBRACKET:lh-lhlh<0} NetChargeWithinDay[r,s,ls,ld,lhlh,y])-StorageUpperLimit[r,s,y] <= 0;\n",
    "s.t. SC4_LowerLimit_BeginningOfDailyTimeBracketOfFirstInstanceOfDayTypeInLastWeekConstraint{r in REGION, s in STORAGE, ls in SEASON, ld in DAYTYPE, lh in DAILYTIMEBRACKET, y in YEAR}: \t0 <= if ld > min{ldld in DAYTYPE} min(ldld) then (StorageLevelDayTypeFinish[r,s,ls,ld-1,y]+sum{lhlh in DAILYTIMEBRACKET:lh-lhlh>0} NetChargeWithinDay[r,s,ls,ld,lhlh,y])-StorageLowerLimit[r,s,y];\n",
    "s.t. SC4_UpperLimit_BeginningOfDailyTimeBracketOfFirstInstanceOfDayTypeInLastWeekConstraint{r in REGION, s in STORAGE, ls in SEASON, ld in DAYTYPE, lh in DAILYTIMEBRACKET, y in YEAR}: if ld > min{ldld in DAYTYPE} min(ldld) then (StorageLevelDayTypeFinish[r,s,ls,ld-1,y]+sum{lhlh in DAILYTIMEBRACKET:lh-lhlh>0} NetChargeWithinDay[r,s,ls,ld,lhlh,y])-StorageUpperLimit[r,s,y] <= 0;\n",
    "s.t. SC5_MaxChargeConstraint{r in REGION, s in STORAGE, ls in SEASON, ld in DAYTYPE, lh in DAILYTIMEBRACKET, y in YEAR}: RateOfStorageCharge[r,s,ls,ld,lh,y] <= StorageMaxChargeRate[r,s];\n",
    "s.t. SC6_MaxDischargeConstraint{r in REGION, s in STORAGE, ls in SEASON, ld in DAYTYPE, lh in DAILYTIMEBRACKET, y in YEAR}: RateOfStorageDischarge[r,s,ls,ld,lh,y] <= StorageMaxDischargeRate[r,s];\n",
    "#\n",
    "#########\t\tStorage Investments\t\t\t\t#############\n",
    "#\n",
    "s.t. SI1_StorageUpperLimit{r in REGION, s in STORAGE, y in YEAR}: AccumulatedNewStorageCapacity[r,s,y]+ResidualStorageCapacity[r,s,y] = StorageUpperLimit[r,s,y];\n",
    "s.t. SI2_StorageLowerLimit{r in REGION, s in STORAGE, y in YEAR}: MinStorageCharge[r,s,y]*StorageUpperLimit[r,s,y] = StorageLowerLimit[r,s,y];\n",
    "s.t. SI3_TotalNewStorage{r in REGION, s in STORAGE, y in YEAR}: sum{yy in YEAR: y-yy < OperationalLifeStorage[r,s] && y-yy>=0} NewStorageCapacity[r,s,yy]=AccumulatedNewStorageCapacity[r,s,y];\n",
    "s.t. SI4_UndiscountedCapitalInvestmentStorage{r in REGION, s in STORAGE, y in YEAR}: CapitalCostStorage[r,s,y] * NewStorageCapacity[r,s,y] = CapitalInvestmentStorage[r,s,y];\n",
    "s.t. SI5_DiscountingCapitalInvestmentStorage{r in REGION, s in STORAGE, y in YEAR}: CapitalInvestmentStorage[r,s,y]/(DiscountFactorStorage[r,s,y]) = DiscountedCapitalInvestmentStorage[r,s,y];\n",
    "s.t. SI6_SalvageValueStorageAtEndOfPeriod1{r in REGION, s in STORAGE, y in YEAR: (y+OperationalLifeStorage[r,s]-1) <= (max{yy in YEAR} max(yy))}: 0 = SalvageValueStorage[r,s,y];\n",
    "s.t. SI7_SalvageValueStorageAtEndOfPeriod2{r in REGION, s in STORAGE, y in YEAR: (DepreciationMethod[r]=1 && (y+OperationalLifeStorage[r,s]-1) > (max{yy in YEAR} max(yy)) && DiscountRateStorage[r,s]=0) || (DepreciationMethod[r]=2 && (y+OperationalLifeStorage[r,s]-1) > (max{yy in YEAR} max(yy)))}: CapitalInvestmentStorage[r,s,y]*(1-(max{yy in YEAR} max(yy) - y+1)/OperationalLifeStorage[r,s]) = SalvageValueStorage[r,s,y];\n",
    "s.t. SI8_SalvageValueStorageAtEndOfPeriod3{r in REGION, s in STORAGE, y in YEAR: DepreciationMethod[r]=1 && (y+OperationalLifeStorage[r,s]-1) > (max{yy in YEAR} max(yy)) && DiscountRateStorage[r,s]>0}: CapitalInvestmentStorage[r,s,y]*(1-(((1+DiscountRateStorage[r,s])^(max{yy in YEAR} max(yy) - y+1)-1)/((1+DiscountRateStorage[r,s])^OperationalLifeStorage[r,s]-1))) = SalvageValueStorage[r,s,y];\n",
    "s.t. SI9_SalvageValueStorageDiscountedToStartYear{r in REGION, s in STORAGE, y in YEAR}: SalvageValueStorage[r,s,y]/((1+DiscountRateStorage[r,s])^(max{yy in YEAR} max(yy)-min{yy in YEAR} min(yy)+1)) = DiscountedSalvageValueStorage[r,s,y];\n",
    "s.t. SI10_TotalDiscountedCostByStorage{r in REGION, s in STORAGE, y in YEAR}: DiscountedCapitalInvestmentStorage[r,s,y]-DiscountedSalvageValueStorage[r,s,y] = TotalDiscountedStorageCost[r,s,y];\n",
    "```"
   ]
  },
  {
   "cell_type": "markdown",
   "metadata": {},
   "source": [
    "## Demand"
   ]
  },
  {
   "cell_type": "code",
   "execution_count": 8,
   "metadata": {},
   "outputs": [],
   "source": [
    "m = add_demand_constraints(ds, m)"
   ]
  },
  {
   "cell_type": "markdown",
   "metadata": {},
   "source": [
    "## Capacity Adequacy A"
   ]
  },
  {
   "cell_type": "code",
   "execution_count": 9,
   "metadata": {},
   "outputs": [],
   "source": [
    "m = add_capacity_adequacy_a_constraints(ds, m)"
   ]
  },
  {
   "cell_type": "markdown",
   "metadata": {},
   "source": [
    "## Capacity Adequacy B"
   ]
  },
  {
   "cell_type": "code",
   "execution_count": 10,
   "metadata": {},
   "outputs": [],
   "source": [
    "m = add_capacity_adequacy_b_constraints(ds, m)"
   ]
  },
  {
   "cell_type": "markdown",
   "metadata": {},
   "source": [
    "## Energy Balance A"
   ]
  },
  {
   "cell_type": "code",
   "execution_count": 11,
   "metadata": {},
   "outputs": [],
   "source": [
    "m = add_energy_balance_a_constraints(ds, m)"
   ]
  },
  {
   "attachments": {},
   "cell_type": "markdown",
   "metadata": {},
   "source": [
    "## Energy Balance B"
   ]
  },
  {
   "cell_type": "code",
   "execution_count": 12,
   "metadata": {},
   "outputs": [],
   "source": [
    "m = add_energy_balance_b_constraints(ds, m)"
   ]
  },
  {
   "attachments": {},
   "cell_type": "markdown",
   "metadata": {},
   "source": [
    "## Accounting Technology Production/Use"
   ]
  },
  {
   "cell_type": "code",
   "execution_count": 13,
   "metadata": {},
   "outputs": [],
   "source": [
    "m = add_accounting_technology_constraints(ds, m)"
   ]
  },
  {
   "attachments": {},
   "cell_type": "markdown",
   "metadata": {},
   "source": [
    "## Capital Costs"
   ]
  },
  {
   "cell_type": "code",
   "execution_count": 14,
   "metadata": {},
   "outputs": [],
   "source": [
    "m = add_capital_costs_constraints(ds, m, capital_recovery_factor, pv_annuity, discount_factor)"
   ]
  },
  {
   "attachments": {},
   "cell_type": "markdown",
   "metadata": {},
   "source": [
    "## Salvage Value\n",
    "\n",
    "### GNU MathProg implementation\n",
    "```ampl\n",
    "s.t. SV1_SalvageValueAtEndOfPeriod1{\n",
    "    r in REGION, t in TECHNOLOGY, y in YEAR: \n",
    "        DepreciationMethod[r]=1 && \n",
    "        (y + OperationalLife[r,t]-1) > (max{yy in YEAR} max(yy)) && \n",
    "        DiscountRate[r]>0}: \n",
    "    SalvageValue[r,t,y] \n",
    "    = \n",
    "    CapitalCost[r,t,y] * NewCapacity[r,t,y] * CapitalRecoveryFactor[r,t] * PvAnnuity[r,t] * \n",
    "    (1-(((1+DiscountRate[r])^(max{yy in YEAR} max(yy) - y+1)-1)/((1+DiscountRate[r])^OperationalLife[r,t]-1)));\n",
    "```\n",
    "### Pyomo implementation\n",
    "```python\n",
    "def SalvageValueAtEndOfPeriod1_rule(model, r, t, y):\n",
    "    if (\n",
    "        model.DepreciationMethod[r] == 1\n",
    "        and ((y + model.OperationalLife[r, t] - 1) > max(model.YEAR))\n",
    "        and model.DiscountRate[r] > 0\n",
    "    ):\n",
    "        return model.SalvageValue[r, t, y] == model.CapitalCost[\n",
    "            r, t, y\n",
    "        ] * model.NewCapacity[r, t, y] * (\n",
    "            1\n",
    "            - (\n",
    "                ((1 + model.DiscountRate[r]) ** (max(model.YEAR) - y + 1) - 1)\n",
    "                / ((1 + model.DiscountRate[r]) ** model.OperationalLife[r, t] - 1)\n",
    "            )\n",
    "        )\n",
    "    elif (\n",
    "        model.DepreciationMethod[r] == 1\n",
    "        and ((y + model.OperationalLife[r, t] - 1) > max(model.YEAR))\n",
    "        and model.DiscountRate[r] == 0\n",
    "    ) or (\n",
    "        model.DepreciationMethod[r] == 2\n",
    "        and (y + model.OperationalLife[r, t] - 1) > (max(model.YEAR))\n",
    "    ):\n",
    "        return model.SalvageValue[r, t, y] == model.CapitalCost[\n",
    "            r, t, y\n",
    "        ] * model.NewCapacity[r, t, y] * (\n",
    "            1 - (max(model.YEAR) - y + 1) / model.OperationalLife[r, t]\n",
    "        )\n",
    "    else:\n",
    "        return model.SalvageValue[r, t, y] == 0\n",
    "\n",
    "\n",
    "model.SalvageValueAtEndOfPeriod1 = Constraint(\n",
    "    model.REGION, model.TECHNOLOGY, model.YEAR, rule=SalvageValueAtEndOfPeriod1_rule\n",
    ")\n",
    "```"
   ]
  },
  {
   "cell_type": "code",
   "execution_count": 15,
   "metadata": {},
   "outputs": [
    {
     "data": {
      "text/plain": [
       "Constraint `SV1_SalvageValueAtEndOfPeriod1` (REGION: 1, TECHNOLOGY: 3, YEAR: 51):\n",
       "---------------------------------------------------------------------------------\n",
       "[R1, TRANSMISSION, 2020]: +1 SalvageValue[R1, TRANSMISSION, 2020] + 0 NewCapacity[R1, TRANSMISSION, 2020] = -0.0\n",
       "[R1, TRANSMISSION, 2021]: +1 SalvageValue[R1, TRANSMISSION, 2021] + 0 NewCapacity[R1, TRANSMISSION, 2021] = -0.0\n",
       "[R1, TRANSMISSION, 2022]: +1 SalvageValue[R1, TRANSMISSION, 2022] + 0 NewCapacity[R1, TRANSMISSION, 2022] = -0.0\n",
       "[R1, TRANSMISSION, 2023]: +1 SalvageValue[R1, TRANSMISSION, 2023] + 0 NewCapacity[R1, TRANSMISSION, 2023] = -0.0\n",
       "[R1, TRANSMISSION, 2024]: +1 SalvageValue[R1, TRANSMISSION, 2024] + 0 NewCapacity[R1, TRANSMISSION, 2024] = -0.0\n",
       "[R1, TRANSMISSION, 2025]: +1 SalvageValue[R1, TRANSMISSION, 2025] + 0 NewCapacity[R1, TRANSMISSION, 2025] = -0.0\n",
       "[R1, TRANSMISSION, 2026]: +1 SalvageValue[R1, TRANSMISSION, 2026] + 0 NewCapacity[R1, TRANSMISSION, 2026] = -0.0\n",
       "\t\t...\n",
       "[R1, HYDRO, 2064]: +1 SalvageValue[R1, HYDRO, 2064] - 4689 NewCapacity[R1, HYDRO, 2064]                   = -0.0\n",
       "[R1, HYDRO, 2065]: +1 SalvageValue[R1, HYDRO, 2065] - 4708 NewCapacity[R1, HYDRO, 2065]                   = -0.0\n",
       "[R1, HYDRO, 2066]: +1 SalvageValue[R1, HYDRO, 2066] - 4725 NewCapacity[R1, HYDRO, 2066]                   = -0.0\n",
       "[R1, HYDRO, 2067]: +1 SalvageValue[R1, HYDRO, 2067] - 4741 NewCapacity[R1, HYDRO, 2067]                   = -0.0\n",
       "[R1, HYDRO, 2068]: +1 SalvageValue[R1, HYDRO, 2068] - 4757 NewCapacity[R1, HYDRO, 2068]                   = -0.0\n",
       "[R1, HYDRO, 2069]: +1 SalvageValue[R1, HYDRO, 2069] - 4772 NewCapacity[R1, HYDRO, 2069]                   = -0.0\n",
       "[R1, HYDRO, 2070]: +1 SalvageValue[R1, HYDRO, 2070] - 4786 NewCapacity[R1, HYDRO, 2070]                   = -0.0"
      ]
     },
     "execution_count": 15,
     "metadata": {},
     "output_type": "execute_result"
    }
   ],
   "source": [
    "def numerator(y: int):\n",
    "    return ((1 + ds['DiscountRateIdv']) ** (max(ds.coords['YEAR']) - y + 1) - 1)\n",
    "\n",
    "def denominator():\n",
    "    return ((1 + ds['DiscountRateIdv']) ** ds['OperationalLife'] - 1)\n",
    "\n",
    "def salvage_cost(ds):\n",
    "    return ds['CapitalCost'].fillna(0) * (1 - (numerator(ds.coords['YEAR']) / denominator()))\n",
    "\n",
    "con = m['SalvageValue'] - (m['NewCapacity'] * salvage_cost(ds)) == 0\n",
    "mask = (ds['DepreciationMethod'] == 1) & ((ds.coords['YEAR'] + ds['OperationalLife'] - 1) > max(ds.coords['YEAR'])) & (ds['DiscountRateIdv'] > 0)\n",
    "m.add_constraints(con, name='SV1_SalvageValueAtEndOfPeriod1', mask=mask)"
   ]
  },
  {
   "attachments": {},
   "cell_type": "markdown",
   "metadata": {},
   "source": [
    "```ampl\n",
    "s.t. SV2_SalvageValueAtEndOfPeriod2{r in REGION, t in TECHNOLOGY, y in YEAR: \n",
    "        (DepreciationMethod[r]=1 && \n",
    "        (y + OperationalLife[r,t]-1) > (max{yy in YEAR} max(yy)) && \n",
    "        DiscountRate[r]=0) \n",
    "        || (DepreciationMethod[r]=2 && \n",
    "        (y + OperationalLife[r,t]-1) > (max{yy in YEAR} max(yy)))}: \n",
    "    SalvageValue[r,t,y] = CapitalCost[r,t,y] * NewCapacity[r,t,y] * CapitalRecoveryFactor[r,t] * PvAnnuity[r,t] *(1-(max{yy in YEAR} max(yy) - y+1)/OperationalLife[r,t]);\n",
    "```"
   ]
  },
  {
   "cell_type": "code",
   "execution_count": 16,
   "metadata": {},
   "outputs": [
    {
     "data": {
      "text/plain": [
       "Constraint `SV2_SalvageValueAtEndOfPeriod2` (REGION: 1, TECHNOLOGY: 3, YEAR: 51):\n",
       "---------------------------------------------------------------------------------\n",
       "[R1, TRANSMISSION, 2020]: +1 SalvageValue[R1, TRANSMISSION, 2020] - 0 NewCapacity[R1, TRANSMISSION, 2020] = -0.0\n",
       "[R1, TRANSMISSION, 2021]: +1 SalvageValue[R1, TRANSMISSION, 2021] - 0 NewCapacity[R1, TRANSMISSION, 2021] = -0.0\n",
       "[R1, TRANSMISSION, 2022]: +1 SalvageValue[R1, TRANSMISSION, 2022] - 0 NewCapacity[R1, TRANSMISSION, 2022] = -0.0\n",
       "[R1, TRANSMISSION, 2023]: +1 SalvageValue[R1, TRANSMISSION, 2023] - 0 NewCapacity[R1, TRANSMISSION, 2023] = -0.0\n",
       "[R1, TRANSMISSION, 2024]: +1 SalvageValue[R1, TRANSMISSION, 2024] - 0 NewCapacity[R1, TRANSMISSION, 2024] = -0.0\n",
       "[R1, TRANSMISSION, 2025]: +1 SalvageValue[R1, TRANSMISSION, 2025] - 0 NewCapacity[R1, TRANSMISSION, 2025] = -0.0\n",
       "[R1, TRANSMISSION, 2026]: +1 SalvageValue[R1, TRANSMISSION, 2026] - 0 NewCapacity[R1, TRANSMISSION, 2026] = -0.0\n",
       "\t\t...\n",
       "[R1, HYDRO, 2064]: +1 SalvageValue[R1, HYDRO, 2064] - 5360 NewCapacity[R1, HYDRO, 2064]                   = -0.0\n",
       "[R1, HYDRO, 2065]: +1 SalvageValue[R1, HYDRO, 2065] - 5280 NewCapacity[R1, HYDRO, 2065]                   = -0.0\n",
       "[R1, HYDRO, 2066]: +1 SalvageValue[R1, HYDRO, 2066] - 5200 NewCapacity[R1, HYDRO, 2066]                   = -0.0\n",
       "[R1, HYDRO, 2067]: +1 SalvageValue[R1, HYDRO, 2067] - 5120 NewCapacity[R1, HYDRO, 2067]                   = -0.0\n",
       "[R1, HYDRO, 2068]: +1 SalvageValue[R1, HYDRO, 2068] - 5040 NewCapacity[R1, HYDRO, 2068]                   = -0.0\n",
       "[R1, HYDRO, 2069]: +1 SalvageValue[R1, HYDRO, 2069] - 4960 NewCapacity[R1, HYDRO, 2069]                   = -0.0\n",
       "[R1, HYDRO, 2070]: +1 SalvageValue[R1, HYDRO, 2070] - 4880 NewCapacity[R1, HYDRO, 2070]                   = -0.0"
      ]
     },
     "execution_count": 16,
     "metadata": {},
     "output_type": "execute_result"
    }
   ],
   "source": [
    "def numerator(y: int):\n",
    "    return 1 - (max(ds.coords['YEAR']) - y + 1) - 1\n",
    "\n",
    "def denominator():\n",
    "    return ds['OperationalLife']\n",
    "\n",
    "def salvage_cost(ds):\n",
    "    return ds['CapitalCost'].fillna(0) * (1 - (numerator(ds.coords['YEAR']) / denominator()))\n",
    "\n",
    "con = m['SalvageValue'] - (m['NewCapacity'] * salvage_cost(ds)) == 0\n",
    "mask = ((ds['DepreciationMethod'] == 1) & ((ds.coords['YEAR'] + ds['OperationalLife'] - 1) > max(ds.coords['YEAR'])) & (ds['DiscountRateIdv'] == 0)) | ((ds['DepreciationMethod'] == 2) & ((ds.coords['YEAR'] + ds['OperationalLife'] - 1) > max(ds.coords['YEAR'])))\n",
    "m.add_constraints(con, name='SV2_SalvageValueAtEndOfPeriod2', mask=mask)"
   ]
  },
  {
   "attachments": {},
   "cell_type": "markdown",
   "metadata": {},
   "source": [
    "```ampl\n",
    "s.t. SV3_SalvageValueAtEndOfPeriod3{r in REGION, t in TECHNOLOGY, y in YEAR: (y + OperationalLife[r,t]-1) <= (max{yy in YEAR} max(yy))}: \n",
    "    SalvageValue[r,t,y] = 0;\n",
    "```"
   ]
  },
  {
   "cell_type": "code",
   "execution_count": 17,
   "metadata": {},
   "outputs": [
    {
     "data": {
      "text/plain": [
       "Constraint `SV3_SalvageValueAtEndOfPeriod3` (REGION: 1, TECHNOLOGY: 3, YEAR: 51):\n",
       "---------------------------------------------------------------------------------\n",
       "[R1, TRANSMISSION, 2020]: +1 SalvageValue[R1, TRANSMISSION, 2020] = -0.0\n",
       "[R1, TRANSMISSION, 2021]: +1 SalvageValue[R1, TRANSMISSION, 2021] = -0.0\n",
       "[R1, TRANSMISSION, 2022]: +1 SalvageValue[R1, TRANSMISSION, 2022] = -0.0\n",
       "[R1, TRANSMISSION, 2023]: +1 SalvageValue[R1, TRANSMISSION, 2023] = -0.0\n",
       "[R1, TRANSMISSION, 2024]: +1 SalvageValue[R1, TRANSMISSION, 2024] = -0.0\n",
       "[R1, TRANSMISSION, 2025]: +1 SalvageValue[R1, TRANSMISSION, 2025] = -0.0\n",
       "[R1, TRANSMISSION, 2026]: +1 SalvageValue[R1, TRANSMISSION, 2026] = -0.0\n",
       "\t\t...\n",
       "[R1, HYDRO, 2064]: +1 SalvageValue[R1, HYDRO, 2064]               = -0.0\n",
       "[R1, HYDRO, 2065]: +1 SalvageValue[R1, HYDRO, 2065]               = -0.0\n",
       "[R1, HYDRO, 2066]: +1 SalvageValue[R1, HYDRO, 2066]               = -0.0\n",
       "[R1, HYDRO, 2067]: +1 SalvageValue[R1, HYDRO, 2067]               = -0.0\n",
       "[R1, HYDRO, 2068]: +1 SalvageValue[R1, HYDRO, 2068]               = -0.0\n",
       "[R1, HYDRO, 2069]: +1 SalvageValue[R1, HYDRO, 2069]               = -0.0\n",
       "[R1, HYDRO, 2070]: +1 SalvageValue[R1, HYDRO, 2070]               = -0.0"
      ]
     },
     "execution_count": 17,
     "metadata": {},
     "output_type": "execute_result"
    }
   ],
   "source": [
    "con = m['SalvageValue'] == 0\n",
    "mask = ((ds.coords['YEAR'] + ds['OperationalLife'] - 1) <= max(ds.coords['YEAR']))\n",
    "m.add_constraints(con, name='SV3_SalvageValueAtEndOfPeriod3', mask=mask)"
   ]
  },
  {
   "attachments": {},
   "cell_type": "markdown",
   "metadata": {},
   "source": [
    "```ampl\n",
    "s.t. SV4_SalvageValueDiscountedToStartYear{r in REGION, t in TECHNOLOGY, y in YEAR}: \n",
    "    DiscountedSalvageValue[r,t,y] = SalvageValue[r,t,y]/((1+DiscountRate[r])^(1+max{yy in YEAR} max(yy)-min{yy in YEAR} min(yy)));\n",
    "```"
   ]
  },
  {
   "cell_type": "code",
   "execution_count": 18,
   "metadata": {},
   "outputs": [
    {
     "data": {
      "text/plain": [
       "Constraint `SV4_SalvageValueDiscountedToStartYear` (REGION: 1, TECHNOLOGY: 3, YEAR: 51):\n",
       "----------------------------------------------------------------------------------------\n",
       "[R1, TRANSMISSION, 2020]: +1 DiscountedSalvageValue[R1, TRANSMISSION, 2020] - 0.08305 SalvageValue[R1, TRANSMISSION, 2020] = -0.0\n",
       "[R1, TRANSMISSION, 2021]: +1 DiscountedSalvageValue[R1, TRANSMISSION, 2021] - 0.08305 SalvageValue[R1, TRANSMISSION, 2021] = -0.0\n",
       "[R1, TRANSMISSION, 2022]: +1 DiscountedSalvageValue[R1, TRANSMISSION, 2022] - 0.08305 SalvageValue[R1, TRANSMISSION, 2022] = -0.0\n",
       "[R1, TRANSMISSION, 2023]: +1 DiscountedSalvageValue[R1, TRANSMISSION, 2023] - 0.08305 SalvageValue[R1, TRANSMISSION, 2023] = -0.0\n",
       "[R1, TRANSMISSION, 2024]: +1 DiscountedSalvageValue[R1, TRANSMISSION, 2024] - 0.08305 SalvageValue[R1, TRANSMISSION, 2024] = -0.0\n",
       "[R1, TRANSMISSION, 2025]: +1 DiscountedSalvageValue[R1, TRANSMISSION, 2025] - 0.08305 SalvageValue[R1, TRANSMISSION, 2025] = -0.0\n",
       "[R1, TRANSMISSION, 2026]: +1 DiscountedSalvageValue[R1, TRANSMISSION, 2026] - 0.08305 SalvageValue[R1, TRANSMISSION, 2026] = -0.0\n",
       "\t\t...\n",
       "[R1, HYDRO, 2064]: +1 DiscountedSalvageValue[R1, HYDRO, 2064] - 0.08305 SalvageValue[R1, HYDRO, 2064]                      = -0.0\n",
       "[R1, HYDRO, 2065]: +1 DiscountedSalvageValue[R1, HYDRO, 2065] - 0.08305 SalvageValue[R1, HYDRO, 2065]                      = -0.0\n",
       "[R1, HYDRO, 2066]: +1 DiscountedSalvageValue[R1, HYDRO, 2066] - 0.08305 SalvageValue[R1, HYDRO, 2066]                      = -0.0\n",
       "[R1, HYDRO, 2067]: +1 DiscountedSalvageValue[R1, HYDRO, 2067] - 0.08305 SalvageValue[R1, HYDRO, 2067]                      = -0.0\n",
       "[R1, HYDRO, 2068]: +1 DiscountedSalvageValue[R1, HYDRO, 2068] - 0.08305 SalvageValue[R1, HYDRO, 2068]                      = -0.0\n",
       "[R1, HYDRO, 2069]: +1 DiscountedSalvageValue[R1, HYDRO, 2069] - 0.08305 SalvageValue[R1, HYDRO, 2069]                      = -0.0\n",
       "[R1, HYDRO, 2070]: +1 DiscountedSalvageValue[R1, HYDRO, 2070] - 0.08305 SalvageValue[R1, HYDRO, 2070]                      = -0.0"
      ]
     },
     "execution_count": 18,
     "metadata": {},
     "output_type": "execute_result"
    }
   ],
   "source": [
    "def discounting(ds):\n",
    "    return (1 + ds['DiscountRateIdv']) ** (1 + max(ds.coords['YEAR']) - min(ds.coords['YEAR']))\n",
    "con = m['DiscountedSalvageValue'] - m['SalvageValue'] / discounting(ds) == 0\n",
    "m.add_constraints(con, name='SV4_SalvageValueDiscountedToStartYear')"
   ]
  },
  {
   "attachments": {},
   "cell_type": "markdown",
   "metadata": {},
   "source": [
    "## Operating Costs"
   ]
  },
  {
   "cell_type": "code",
   "execution_count": 19,
   "metadata": {},
   "outputs": [],
   "source": [
    "m = add_operating_costs_constraints(ds, m, discount_factor_mid)"
   ]
  },
  {
   "attachments": {},
   "cell_type": "markdown",
   "metadata": {},
   "source": [
    "## Total Discounted Costs"
   ]
  },
  {
   "cell_type": "code",
   "execution_count": 20,
   "metadata": {},
   "outputs": [],
   "source": [
    "m = add_total_discounted_costs_constraints(ds, m)"
   ]
  },
  {
   "attachments": {},
   "cell_type": "markdown",
   "metadata": {},
   "source": [
    "## Total Capacity Constraints\n",
    "\n",
    "```ampl\n",
    "s.t. TCC1_TotalAnnualMaxCapacityConstraint{r in REGION, t in TECHNOLOGY, y in YEAR: TotalAnnualMaxCapacity[r,t,y] <> -1}: \n",
    "    TotalCapacityAnnual[r,t,y] <= TotalAnnualMaxCapacity[r,t,y];\n",
    "```"
   ]
  },
  {
   "cell_type": "code",
   "execution_count": 21,
   "metadata": {},
   "outputs": [
    {
     "data": {
      "text/plain": [
       "Constraint `TCC1_TotalAnnualMaxCapacityConstraint` (REGION: 1, TECHNOLOGY: 3, YEAR: 51):\n",
       "----------------------------------------------------------------------------------------\n",
       "[R1, TRANSMISSION, 2020]: +1 TotalCapacityAnnual[R1, TRANSMISSION, 2020] ≤ -1.0\n",
       "[R1, TRANSMISSION, 2021]: +1 TotalCapacityAnnual[R1, TRANSMISSION, 2021] ≤ -1.0\n",
       "[R1, TRANSMISSION, 2022]: +1 TotalCapacityAnnual[R1, TRANSMISSION, 2022] ≤ -1.0\n",
       "[R1, TRANSMISSION, 2023]: +1 TotalCapacityAnnual[R1, TRANSMISSION, 2023] ≤ -1.0\n",
       "[R1, TRANSMISSION, 2024]: +1 TotalCapacityAnnual[R1, TRANSMISSION, 2024] ≤ -1.0\n",
       "[R1, TRANSMISSION, 2025]: +1 TotalCapacityAnnual[R1, TRANSMISSION, 2025] ≤ -1.0\n",
       "[R1, TRANSMISSION, 2026]: +1 TotalCapacityAnnual[R1, TRANSMISSION, 2026] ≤ -1.0\n",
       "\t\t...\n",
       "[R1, HYDRO, 2064]: +1 TotalCapacityAnnual[R1, HYDRO, 2064]               ≤ -1.0\n",
       "[R1, HYDRO, 2065]: +1 TotalCapacityAnnual[R1, HYDRO, 2065]               ≤ -1.0\n",
       "[R1, HYDRO, 2066]: +1 TotalCapacityAnnual[R1, HYDRO, 2066]               ≤ -1.0\n",
       "[R1, HYDRO, 2067]: +1 TotalCapacityAnnual[R1, HYDRO, 2067]               ≤ -1.0\n",
       "[R1, HYDRO, 2068]: +1 TotalCapacityAnnual[R1, HYDRO, 2068]               ≤ -1.0\n",
       "[R1, HYDRO, 2069]: +1 TotalCapacityAnnual[R1, HYDRO, 2069]               ≤ -1.0\n",
       "[R1, HYDRO, 2070]: +1 TotalCapacityAnnual[R1, HYDRO, 2070]               ≤ -1.0"
      ]
     },
     "execution_count": 21,
     "metadata": {},
     "output_type": "execute_result"
    }
   ],
   "source": [
    "con = m['TotalCapacityAnnual'] <= ds['TotalAnnualMaxCapacity']\n",
    "mask = ds['TotalAnnualMaxCapacity'] >= 0\n",
    "m.add_constraints(con, name='TCC1_TotalAnnualMaxCapacityConstraint', mask=mask)"
   ]
  },
  {
   "attachments": {},
   "cell_type": "markdown",
   "metadata": {},
   "source": [
    "```ampl\n",
    "s.t. TCC2_TotalAnnualMinCapacityConstraint{r in REGION, t in TECHNOLOGY, y in YEAR: TotalAnnualMinCapacity[r,t,y]>0}: \n",
    "    TotalCapacityAnnual[r,t,y] >= TotalAnnualMinCapacity[r,t,y];\n",
    "```"
   ]
  },
  {
   "cell_type": "code",
   "execution_count": 22,
   "metadata": {},
   "outputs": [
    {
     "data": {
      "text/plain": [
       "Constraint `TCC2_TotalAnnualMinCapacityConstraint` (REGION: 1, TECHNOLOGY: 3, YEAR: 51):\n",
       "----------------------------------------------------------------------------------------\n",
       "[R1, TRANSMISSION, 2020]: +1 TotalCapacityAnnual[R1, TRANSMISSION, 2020] ≥ -0.0\n",
       "[R1, TRANSMISSION, 2021]: +1 TotalCapacityAnnual[R1, TRANSMISSION, 2021] ≥ -0.0\n",
       "[R1, TRANSMISSION, 2022]: +1 TotalCapacityAnnual[R1, TRANSMISSION, 2022] ≥ -0.0\n",
       "[R1, TRANSMISSION, 2023]: +1 TotalCapacityAnnual[R1, TRANSMISSION, 2023] ≥ -0.0\n",
       "[R1, TRANSMISSION, 2024]: +1 TotalCapacityAnnual[R1, TRANSMISSION, 2024] ≥ -0.0\n",
       "[R1, TRANSMISSION, 2025]: +1 TotalCapacityAnnual[R1, TRANSMISSION, 2025] ≥ -0.0\n",
       "[R1, TRANSMISSION, 2026]: +1 TotalCapacityAnnual[R1, TRANSMISSION, 2026] ≥ -0.0\n",
       "\t\t...\n",
       "[R1, HYDRO, 2064]: +1 TotalCapacityAnnual[R1, HYDRO, 2064]               ≥ -0.0\n",
       "[R1, HYDRO, 2065]: +1 TotalCapacityAnnual[R1, HYDRO, 2065]               ≥ -0.0\n",
       "[R1, HYDRO, 2066]: +1 TotalCapacityAnnual[R1, HYDRO, 2066]               ≥ -0.0\n",
       "[R1, HYDRO, 2067]: +1 TotalCapacityAnnual[R1, HYDRO, 2067]               ≥ -0.0\n",
       "[R1, HYDRO, 2068]: +1 TotalCapacityAnnual[R1, HYDRO, 2068]               ≥ -0.0\n",
       "[R1, HYDRO, 2069]: +1 TotalCapacityAnnual[R1, HYDRO, 2069]               ≥ -0.0\n",
       "[R1, HYDRO, 2070]: +1 TotalCapacityAnnual[R1, HYDRO, 2070]               ≥ -0.0"
      ]
     },
     "execution_count": 22,
     "metadata": {},
     "output_type": "execute_result"
    }
   ],
   "source": [
    "con = m['TotalCapacityAnnual'] >= ds['TotalAnnualMinCapacity']\n",
    "mask = ds['TotalAnnualMinCapacity'] > 0\n",
    "m.add_constraints(con, name='TCC2_TotalAnnualMinCapacityConstraint', mask=mask)"
   ]
  },
  {
   "attachments": {},
   "cell_type": "markdown",
   "metadata": {},
   "source": [
    "## Annual Activity Constraints\n",
    "\n",
    "```ampl\n",
    "s.t. AAC1_TotalAnnualTechnologyActivity{r in REGION, t in TECHNOLOGY, y in YEAR}: \n",
    "    sum{l in TIMESLICE} RateOfTotalActivity[r,t,l,y]*YearSplit[l,y] = TotalTechnologyAnnualActivity[r,t,y];\n",
    "```\n",
    "\n"
   ]
  },
  {
   "cell_type": "code",
   "execution_count": 23,
   "metadata": {},
   "outputs": [
    {
     "data": {
      "text/plain": [
       "Constraint `AAC1_TotalAnnualTechnologyActivity` (YEAR: 51, REGION: 1, TECHNOLOGY: 3):\n",
       "-------------------------------------------------------------------------------------\n",
       "[2020, R1, TRANSMISSION]: +0.125 RateOfTotalActivity[R1, TRANSMISSION, S1D1, 2020] + 0.125 RateOfTotalActivity[R1, TRANSMISSION, S1D2, 2020] + 0.125 RateOfTotalActivity[R1, TRANSMISSION, S2D1, 2020] ... +0.125 RateOfTotalActivity[R1, TRANSMISSION, S4D1, 2020] + 0.125 RateOfTotalActivity[R1, TRANSMISSION, S4D2, 2020] - 1 TotalTechnologyAnnualActivity[R1, TRANSMISSION, 2020] = -0.0\n",
       "[2020, R1, MINE_WATER]: +0.125 RateOfTotalActivity[R1, MINE_WATER, S1D1, 2020] + 0.125 RateOfTotalActivity[R1, MINE_WATER, S1D2, 2020] + 0.125 RateOfTotalActivity[R1, MINE_WATER, S2D1, 2020] ... +0.125 RateOfTotalActivity[R1, MINE_WATER, S4D1, 2020] + 0.125 RateOfTotalActivity[R1, MINE_WATER, S4D2, 2020] - 1 TotalTechnologyAnnualActivity[R1, MINE_WATER, 2020]               = -0.0\n",
       "[2020, R1, HYDRO]: +0.125 RateOfTotalActivity[R1, HYDRO, S1D1, 2020] + 0.125 RateOfTotalActivity[R1, HYDRO, S1D2, 2020] + 0.125 RateOfTotalActivity[R1, HYDRO, S2D1, 2020] ... +0.125 RateOfTotalActivity[R1, HYDRO, S4D1, 2020] + 0.125 RateOfTotalActivity[R1, HYDRO, S4D2, 2020] - 1 TotalTechnologyAnnualActivity[R1, HYDRO, 2020]                                                  = -0.0\n",
       "[2021, R1, TRANSMISSION]: +0.125 RateOfTotalActivity[R1, TRANSMISSION, S1D1, 2021] + 0.125 RateOfTotalActivity[R1, TRANSMISSION, S1D2, 2021] + 0.125 RateOfTotalActivity[R1, TRANSMISSION, S2D1, 2021] ... +0.125 RateOfTotalActivity[R1, TRANSMISSION, S4D1, 2021] + 0.125 RateOfTotalActivity[R1, TRANSMISSION, S4D2, 2021] - 1 TotalTechnologyAnnualActivity[R1, TRANSMISSION, 2021] = -0.0\n",
       "[2021, R1, MINE_WATER]: +0.125 RateOfTotalActivity[R1, MINE_WATER, S1D1, 2021] + 0.125 RateOfTotalActivity[R1, MINE_WATER, S1D2, 2021] + 0.125 RateOfTotalActivity[R1, MINE_WATER, S2D1, 2021] ... +0.125 RateOfTotalActivity[R1, MINE_WATER, S4D1, 2021] + 0.125 RateOfTotalActivity[R1, MINE_WATER, S4D2, 2021] - 1 TotalTechnologyAnnualActivity[R1, MINE_WATER, 2021]               = -0.0\n",
       "[2021, R1, HYDRO]: +0.125 RateOfTotalActivity[R1, HYDRO, S1D1, 2021] + 0.125 RateOfTotalActivity[R1, HYDRO, S1D2, 2021] + 0.125 RateOfTotalActivity[R1, HYDRO, S2D1, 2021] ... +0.125 RateOfTotalActivity[R1, HYDRO, S4D1, 2021] + 0.125 RateOfTotalActivity[R1, HYDRO, S4D2, 2021] - 1 TotalTechnologyAnnualActivity[R1, HYDRO, 2021]                                                  = -0.0\n",
       "[2022, R1, TRANSMISSION]: +0.125 RateOfTotalActivity[R1, TRANSMISSION, S1D1, 2022] + 0.125 RateOfTotalActivity[R1, TRANSMISSION, S1D2, 2022] + 0.125 RateOfTotalActivity[R1, TRANSMISSION, S2D1, 2022] ... +0.125 RateOfTotalActivity[R1, TRANSMISSION, S4D1, 2022] + 0.125 RateOfTotalActivity[R1, TRANSMISSION, S4D2, 2022] - 1 TotalTechnologyAnnualActivity[R1, TRANSMISSION, 2022] = -0.0\n",
       "\t\t...\n",
       "[2068, R1, HYDRO]: +0.125 RateOfTotalActivity[R1, HYDRO, S1D1, 2068] + 0.125 RateOfTotalActivity[R1, HYDRO, S1D2, 2068] + 0.125 RateOfTotalActivity[R1, HYDRO, S2D1, 2068] ... +0.125 RateOfTotalActivity[R1, HYDRO, S4D1, 2068] + 0.125 RateOfTotalActivity[R1, HYDRO, S4D2, 2068] - 1 TotalTechnologyAnnualActivity[R1, HYDRO, 2068]                                                  = -0.0\n",
       "[2069, R1, TRANSMISSION]: +0.125 RateOfTotalActivity[R1, TRANSMISSION, S1D1, 2069] + 0.125 RateOfTotalActivity[R1, TRANSMISSION, S1D2, 2069] + 0.125 RateOfTotalActivity[R1, TRANSMISSION, S2D1, 2069] ... +0.125 RateOfTotalActivity[R1, TRANSMISSION, S4D1, 2069] + 0.125 RateOfTotalActivity[R1, TRANSMISSION, S4D2, 2069] - 1 TotalTechnologyAnnualActivity[R1, TRANSMISSION, 2069] = -0.0\n",
       "[2069, R1, MINE_WATER]: +0.125 RateOfTotalActivity[R1, MINE_WATER, S1D1, 2069] + 0.125 RateOfTotalActivity[R1, MINE_WATER, S1D2, 2069] + 0.125 RateOfTotalActivity[R1, MINE_WATER, S2D1, 2069] ... +0.125 RateOfTotalActivity[R1, MINE_WATER, S4D1, 2069] + 0.125 RateOfTotalActivity[R1, MINE_WATER, S4D2, 2069] - 1 TotalTechnologyAnnualActivity[R1, MINE_WATER, 2069]               = -0.0\n",
       "[2069, R1, HYDRO]: +0.125 RateOfTotalActivity[R1, HYDRO, S1D1, 2069] + 0.125 RateOfTotalActivity[R1, HYDRO, S1D2, 2069] + 0.125 RateOfTotalActivity[R1, HYDRO, S2D1, 2069] ... +0.125 RateOfTotalActivity[R1, HYDRO, S4D1, 2069] + 0.125 RateOfTotalActivity[R1, HYDRO, S4D2, 2069] - 1 TotalTechnologyAnnualActivity[R1, HYDRO, 2069]                                                  = -0.0\n",
       "[2070, R1, TRANSMISSION]: +0.125 RateOfTotalActivity[R1, TRANSMISSION, S1D1, 2070] + 0.125 RateOfTotalActivity[R1, TRANSMISSION, S1D2, 2070] + 0.125 RateOfTotalActivity[R1, TRANSMISSION, S2D1, 2070] ... +0.125 RateOfTotalActivity[R1, TRANSMISSION, S4D1, 2070] + 0.125 RateOfTotalActivity[R1, TRANSMISSION, S4D2, 2070] - 1 TotalTechnologyAnnualActivity[R1, TRANSMISSION, 2070] = -0.0\n",
       "[2070, R1, MINE_WATER]: +0.125 RateOfTotalActivity[R1, MINE_WATER, S1D1, 2070] + 0.125 RateOfTotalActivity[R1, MINE_WATER, S1D2, 2070] + 0.125 RateOfTotalActivity[R1, MINE_WATER, S2D1, 2070] ... +0.125 RateOfTotalActivity[R1, MINE_WATER, S4D1, 2070] + 0.125 RateOfTotalActivity[R1, MINE_WATER, S4D2, 2070] - 1 TotalTechnologyAnnualActivity[R1, MINE_WATER, 2070]               = -0.0\n",
       "[2070, R1, HYDRO]: +0.125 RateOfTotalActivity[R1, HYDRO, S1D1, 2070] + 0.125 RateOfTotalActivity[R1, HYDRO, S1D2, 2070] + 0.125 RateOfTotalActivity[R1, HYDRO, S2D1, 2070] ... +0.125 RateOfTotalActivity[R1, HYDRO, S4D1, 2070] + 0.125 RateOfTotalActivity[R1, HYDRO, S4D2, 2070] - 1 TotalTechnologyAnnualActivity[R1, HYDRO, 2070]                                                  = -0.0"
      ]
     },
     "execution_count": 23,
     "metadata": {},
     "output_type": "execute_result"
    }
   ],
   "source": [
    "con = (m['RateOfTotalActivity'] * ds['YearSplit']).sum('TIMESLICE') - m['TotalTechnologyAnnualActivity'] == 0\n",
    "m.add_constraints(con, name='AAC1_TotalAnnualTechnologyActivity')"
   ]
  },
  {
   "attachments": {},
   "cell_type": "markdown",
   "metadata": {},
   "source": [
    "```ampl\n",
    "s.t. AAC2_TotalAnnualTechnologyActivityUpperLimit{r in REGION, t in TECHNOLOGY, y in YEAR: TotalTechnologyAnnualActivityUpperLimit[r,t,y] <> -1}:\n",
    "    TotalTechnologyAnnualActivity[r,t,y] <= TotalTechnologyAnnualActivityUpperLimit[r,t,y] ;\n",
    "```"
   ]
  },
  {
   "cell_type": "code",
   "execution_count": 24,
   "metadata": {},
   "outputs": [
    {
     "data": {
      "text/plain": [
       "Constraint `AAC2_TotalAnnualTechnologyActivityUpperLimit` (REGION: 1, TECHNOLOGY: 3, YEAR: 51):\n",
       "-----------------------------------------------------------------------------------------------\n",
       "[R1, TRANSMISSION, 2020]: +1 TotalTechnologyAnnualActivity[R1, TRANSMISSION, 2020] ≤ -1.0\n",
       "[R1, TRANSMISSION, 2021]: +1 TotalTechnologyAnnualActivity[R1, TRANSMISSION, 2021] ≤ -1.0\n",
       "[R1, TRANSMISSION, 2022]: +1 TotalTechnologyAnnualActivity[R1, TRANSMISSION, 2022] ≤ -1.0\n",
       "[R1, TRANSMISSION, 2023]: +1 TotalTechnologyAnnualActivity[R1, TRANSMISSION, 2023] ≤ -1.0\n",
       "[R1, TRANSMISSION, 2024]: +1 TotalTechnologyAnnualActivity[R1, TRANSMISSION, 2024] ≤ -1.0\n",
       "[R1, TRANSMISSION, 2025]: +1 TotalTechnologyAnnualActivity[R1, TRANSMISSION, 2025] ≤ -1.0\n",
       "[R1, TRANSMISSION, 2026]: +1 TotalTechnologyAnnualActivity[R1, TRANSMISSION, 2026] ≤ -1.0\n",
       "\t\t...\n",
       "[R1, HYDRO, 2064]: +1 TotalTechnologyAnnualActivity[R1, HYDRO, 2064]               ≤ -1.0\n",
       "[R1, HYDRO, 2065]: +1 TotalTechnologyAnnualActivity[R1, HYDRO, 2065]               ≤ -1.0\n",
       "[R1, HYDRO, 2066]: +1 TotalTechnologyAnnualActivity[R1, HYDRO, 2066]               ≤ -1.0\n",
       "[R1, HYDRO, 2067]: +1 TotalTechnologyAnnualActivity[R1, HYDRO, 2067]               ≤ -1.0\n",
       "[R1, HYDRO, 2068]: +1 TotalTechnologyAnnualActivity[R1, HYDRO, 2068]               ≤ -1.0\n",
       "[R1, HYDRO, 2069]: +1 TotalTechnologyAnnualActivity[R1, HYDRO, 2069]               ≤ -1.0\n",
       "[R1, HYDRO, 2070]: +1 TotalTechnologyAnnualActivity[R1, HYDRO, 2070]               ≤ -1.0"
      ]
     },
     "execution_count": 24,
     "metadata": {},
     "output_type": "execute_result"
    }
   ],
   "source": [
    "con = m['TotalTechnologyAnnualActivity'] <= ds['TotalTechnologyAnnualActivityUpperLimit']\n",
    "mask = ds['TotalTechnologyAnnualActivityUpperLimit'] >= 0\n",
    "m.add_constraints(con, name='AAC2_TotalAnnualTechnologyActivityUpperLimit', mask=mask)"
   ]
  },
  {
   "attachments": {},
   "cell_type": "markdown",
   "metadata": {},
   "source": [
    "```ampl\n",
    "s.t. AAC3_TotalAnnualTechnologyActivityLowerLimit{r in REGION, t in TECHNOLOGY, y in YEAR: TotalTechnologyAnnualActivityLowerLimit[r,t,y]>0}: \n",
    "    TotalTechnologyAnnualActivity[r,t,y] >= TotalTechnologyAnnualActivityLowerLimit[r,t,y] ;\n",
    "```"
   ]
  },
  {
   "cell_type": "code",
   "execution_count": 25,
   "metadata": {},
   "outputs": [
    {
     "data": {
      "text/plain": [
       "Constraint `AAC3_TotalAnnualTechnologyActivityLowerLimit` (REGION: 1, TECHNOLOGY: 3, YEAR: 51):\n",
       "-----------------------------------------------------------------------------------------------\n",
       "[R1, TRANSMISSION, 2020]: +1 TotalTechnologyAnnualActivity[R1, TRANSMISSION, 2020] ≥ -0.0\n",
       "[R1, TRANSMISSION, 2021]: +1 TotalTechnologyAnnualActivity[R1, TRANSMISSION, 2021] ≥ -0.0\n",
       "[R1, TRANSMISSION, 2022]: +1 TotalTechnologyAnnualActivity[R1, TRANSMISSION, 2022] ≥ -0.0\n",
       "[R1, TRANSMISSION, 2023]: +1 TotalTechnologyAnnualActivity[R1, TRANSMISSION, 2023] ≥ -0.0\n",
       "[R1, TRANSMISSION, 2024]: +1 TotalTechnologyAnnualActivity[R1, TRANSMISSION, 2024] ≥ -0.0\n",
       "[R1, TRANSMISSION, 2025]: +1 TotalTechnologyAnnualActivity[R1, TRANSMISSION, 2025] ≥ -0.0\n",
       "[R1, TRANSMISSION, 2026]: +1 TotalTechnologyAnnualActivity[R1, TRANSMISSION, 2026] ≥ -0.0\n",
       "\t\t...\n",
       "[R1, HYDRO, 2064]: +1 TotalTechnologyAnnualActivity[R1, HYDRO, 2064]               ≥ -0.0\n",
       "[R1, HYDRO, 2065]: +1 TotalTechnologyAnnualActivity[R1, HYDRO, 2065]               ≥ -0.0\n",
       "[R1, HYDRO, 2066]: +1 TotalTechnologyAnnualActivity[R1, HYDRO, 2066]               ≥ -0.0\n",
       "[R1, HYDRO, 2067]: +1 TotalTechnologyAnnualActivity[R1, HYDRO, 2067]               ≥ -0.0\n",
       "[R1, HYDRO, 2068]: +1 TotalTechnologyAnnualActivity[R1, HYDRO, 2068]               ≥ -0.0\n",
       "[R1, HYDRO, 2069]: +1 TotalTechnologyAnnualActivity[R1, HYDRO, 2069]               ≥ -0.0\n",
       "[R1, HYDRO, 2070]: +1 TotalTechnologyAnnualActivity[R1, HYDRO, 2070]               ≥ -0.0"
      ]
     },
     "execution_count": 25,
     "metadata": {},
     "output_type": "execute_result"
    }
   ],
   "source": [
    "con = m['TotalTechnologyAnnualActivity'] >= ds['TotalTechnologyAnnualActivityLowerLimit']\n",
    "mask = ds['TotalTechnologyAnnualActivityLowerLimit'] > 0\n",
    "m.add_constraints(con, name='AAC3_TotalAnnualTechnologyActivityLowerLimit', mask=mask)"
   ]
  },
  {
   "attachments": {},
   "cell_type": "markdown",
   "metadata": {},
   "source": [
    "## Total Activity Constraints\n",
    "\n",
    "```ampl\n",
    "s.t. TAC1_TotalModelHorizonTechnologyActivity{r in REGION, t in TECHNOLOGY}: \n",
    "    sum{y in YEAR} TotalTechnologyAnnualActivity[r,t,y] = TotalTechnologyModelPeriodActivity[r,t];\n",
    "```"
   ]
  },
  {
   "cell_type": "code",
   "execution_count": 26,
   "metadata": {},
   "outputs": [
    {
     "data": {
      "text/plain": [
       "Constraint `TAC1_TotalModelHorizonTechnologyActivity` (REGION: 1, TECHNOLOGY: 3):\n",
       "---------------------------------------------------------------------------------\n",
       "[R1, TRANSMISSION]: +1 TotalTechnologyAnnualActivity[R1, TRANSMISSION, 2020] + 1 TotalTechnologyAnnualActivity[R1, TRANSMISSION, 2021] + 1 TotalTechnologyAnnualActivity[R1, TRANSMISSION, 2022] ... +1 TotalTechnologyAnnualActivity[R1, TRANSMISSION, 2069] + 1 TotalTechnologyAnnualActivity[R1, TRANSMISSION, 2070] - 1 TotalTechnologyModelPeriodActivity[R1, TRANSMISSION] = -0.0\n",
       "[R1, MINE_WATER]: +1 TotalTechnologyAnnualActivity[R1, MINE_WATER, 2020] + 1 TotalTechnologyAnnualActivity[R1, MINE_WATER, 2021] + 1 TotalTechnologyAnnualActivity[R1, MINE_WATER, 2022] ... +1 TotalTechnologyAnnualActivity[R1, MINE_WATER, 2069] + 1 TotalTechnologyAnnualActivity[R1, MINE_WATER, 2070] - 1 TotalTechnologyModelPeriodActivity[R1, MINE_WATER]               = -0.0\n",
       "[R1, HYDRO]: +1 TotalTechnologyAnnualActivity[R1, HYDRO, 2020] + 1 TotalTechnologyAnnualActivity[R1, HYDRO, 2021] + 1 TotalTechnologyAnnualActivity[R1, HYDRO, 2022] ... +1 TotalTechnologyAnnualActivity[R1, HYDRO, 2069] + 1 TotalTechnologyAnnualActivity[R1, HYDRO, 2070] - 1 TotalTechnologyModelPeriodActivity[R1, HYDRO]                                                  = -0.0"
      ]
     },
     "execution_count": 26,
     "metadata": {},
     "output_type": "execute_result"
    }
   ],
   "source": [
    "con = m['TotalTechnologyAnnualActivity'].sum('YEAR') - m['TotalTechnologyModelPeriodActivity'] == 0\n",
    "m.add_constraints(con, name='TAC1_TotalModelHorizonTechnologyActivity')"
   ]
  },
  {
   "attachments": {},
   "cell_type": "markdown",
   "metadata": {},
   "source": [
    "```ampl\n",
    "s.t. TAC2_TotalModelHorizonTechnologyActivityUpperLimit{r in REGION, t in TECHNOLOGY: TotalTechnologyModelPeriodActivityUpperLimit[r,t]<>-1}: \n",
    "    TotalTechnologyModelPeriodActivity[r,t] <= TotalTechnologyModelPeriodActivityUpperLimit[r,t] ;\n",
    "```"
   ]
  },
  {
   "cell_type": "code",
   "execution_count": 27,
   "metadata": {},
   "outputs": [
    {
     "data": {
      "text/plain": [
       "Constraint `TAC2_TotalModelHorizonTechnologyActivityUpperLimit` (REGION: 1, TECHNOLOGY: 3):\n",
       "-------------------------------------------------------------------------------------------\n",
       "[R1, TRANSMISSION]: +1 TotalTechnologyModelPeriodActivity[R1, TRANSMISSION] ≤ -1.0\n",
       "[R1, MINE_WATER]: +1 TotalTechnologyModelPeriodActivity[R1, MINE_WATER]     ≤ -1.0\n",
       "[R1, HYDRO]: +1 TotalTechnologyModelPeriodActivity[R1, HYDRO]               ≤ -1.0"
      ]
     },
     "execution_count": 27,
     "metadata": {},
     "output_type": "execute_result"
    }
   ],
   "source": [
    "con = m['TotalTechnologyModelPeriodActivity'] <= ds['TotalTechnologyModelPeriodActivityUpperLimit']\n",
    "mask = ds['TotalTechnologyModelPeriodActivityUpperLimit'] >= 0\n",
    "m.add_constraints(con, name='TAC2_TotalModelHorizonTechnologyActivityUpperLimit', mask=mask)"
   ]
  },
  {
   "attachments": {},
   "cell_type": "markdown",
   "metadata": {},
   "source": [
    "```ampl\n",
    "s.t. TAC3_TotalModelHorizenTechnologyActivityLowerLimit{r in REGION, t in TECHNOLOGY: TotalTechnologyModelPeriodActivityLowerLimit[r,t]>0}: \n",
    "    TotalTechnologyModelPeriodActivity[r,t] >= TotalTechnologyModelPeriodActivityLowerLimit[r,t] ;\n",
    "```"
   ]
  },
  {
   "cell_type": "code",
   "execution_count": 28,
   "metadata": {},
   "outputs": [
    {
     "data": {
      "text/plain": [
       "Constraint `TAC3_TotalModelHorizenTechnologyActivityLowerLimit` (REGION: 1, TECHNOLOGY: 3):\n",
       "-------------------------------------------------------------------------------------------\n",
       "[R1, TRANSMISSION]: +1 TotalTechnologyModelPeriodActivity[R1, TRANSMISSION] ≥ -0.0\n",
       "[R1, MINE_WATER]: +1 TotalTechnologyModelPeriodActivity[R1, MINE_WATER]     ≥ -0.0\n",
       "[R1, HYDRO]: +1 TotalTechnologyModelPeriodActivity[R1, HYDRO]               ≥ -0.0"
      ]
     },
     "execution_count": 28,
     "metadata": {},
     "output_type": "execute_result"
    }
   ],
   "source": [
    "con = m['TotalTechnologyModelPeriodActivity'] >= ds['TotalTechnologyModelPeriodActivityLowerLimit']\n",
    "mask = ds['TotalTechnologyModelPeriodActivityLowerLimit'] > 0\n",
    "m.add_constraints(con, name='TAC3_TotalModelHorizenTechnologyActivityLowerLimit', mask=mask)"
   ]
  },
  {
   "attachments": {},
   "cell_type": "markdown",
   "metadata": {},
   "source": [
    "## Reserve Margin Constraint\n",
    "\n",
    "```ampl\n",
    "s.t. RM1_ReserveMargin_TechnologiesIncluded_In_Activity_Units{r in REGION, l in TIMESLICE, y in YEAR: ReserveMargin[r,y] > 0}:\n",
    "\tsum {t in TECHNOLOGY}\n",
    "\tTotalCapacityAnnual[r,t,y] * ReserveMarginTagTechnology[r,t,y] * CapacityToActivityUnit[r,t]\n",
    "\t=\n",
    "\tTotalCapacityInReserveMargin[r,y];\n",
    "```"
   ]
  },
  {
   "cell_type": "code",
   "execution_count": 29,
   "metadata": {},
   "outputs": [
    {
     "data": {
      "text/plain": [
       "Constraint `RM1_ReserveMargin_TechnologiesIncluded_In_Activity_Units` (REGION: 1, YEAR: 51, TECHNOLOGY: 3):\n",
       "-----------------------------------------------------------------------------------------------------------\n",
       "[R1, 2020, TRANSMISSION]: +nan TotalCapacityAnnual[R1, TRANSMISSION, 2020] - 1 TotalCapacityInReserveMargin[R1, 2020] = -0.0\n",
       "[R1, 2020, MINE_WATER]: +nan TotalCapacityAnnual[R1, MINE_WATER, 2020] - 1 TotalCapacityInReserveMargin[R1, 2020]     = -0.0\n",
       "[R1, 2020, HYDRO]: +nan TotalCapacityAnnual[R1, HYDRO, 2020] - 1 TotalCapacityInReserveMargin[R1, 2020]               = -0.0\n",
       "[R1, 2021, TRANSMISSION]: +nan TotalCapacityAnnual[R1, TRANSMISSION, 2021] - 1 TotalCapacityInReserveMargin[R1, 2021] = -0.0\n",
       "[R1, 2021, MINE_WATER]: +nan TotalCapacityAnnual[R1, MINE_WATER, 2021] - 1 TotalCapacityInReserveMargin[R1, 2021]     = -0.0\n",
       "[R1, 2021, HYDRO]: +nan TotalCapacityAnnual[R1, HYDRO, 2021] - 1 TotalCapacityInReserveMargin[R1, 2021]               = -0.0\n",
       "[R1, 2022, TRANSMISSION]: +nan TotalCapacityAnnual[R1, TRANSMISSION, 2022] - 1 TotalCapacityInReserveMargin[R1, 2022] = -0.0\n",
       "\t\t...\n",
       "[R1, 2068, HYDRO]: +nan TotalCapacityAnnual[R1, HYDRO, 2068] - 1 TotalCapacityInReserveMargin[R1, 2068]               = -0.0\n",
       "[R1, 2069, TRANSMISSION]: +nan TotalCapacityAnnual[R1, TRANSMISSION, 2069] - 1 TotalCapacityInReserveMargin[R1, 2069] = -0.0\n",
       "[R1, 2069, MINE_WATER]: +nan TotalCapacityAnnual[R1, MINE_WATER, 2069] - 1 TotalCapacityInReserveMargin[R1, 2069]     = -0.0\n",
       "[R1, 2069, HYDRO]: +nan TotalCapacityAnnual[R1, HYDRO, 2069] - 1 TotalCapacityInReserveMargin[R1, 2069]               = -0.0\n",
       "[R1, 2070, TRANSMISSION]: +nan TotalCapacityAnnual[R1, TRANSMISSION, 2070] - 1 TotalCapacityInReserveMargin[R1, 2070] = -0.0\n",
       "[R1, 2070, MINE_WATER]: +nan TotalCapacityAnnual[R1, MINE_WATER, 2070] - 1 TotalCapacityInReserveMargin[R1, 2070]     = -0.0\n",
       "[R1, 2070, HYDRO]: +nan TotalCapacityAnnual[R1, HYDRO, 2070] - 1 TotalCapacityInReserveMargin[R1, 2070]               = -0.0"
      ]
     },
     "execution_count": 29,
     "metadata": {},
     "output_type": "execute_result"
    }
   ],
   "source": [
    "con = ds['ReserveMarginTagTechnology'] * ds['CapacityToActivityUnit'] * m['TotalCapacityAnnual'] - m['TotalCapacityInReserveMargin'] == 0\n",
    "mask = (ds['ReserveMargin'] > 0) & (ds['ReserveMarginTagTechnology'] == 1)\n",
    "m.add_constraints(con, name='RM1_ReserveMargin_TechnologiesIncluded_In_Activity_Units', mask=mask)"
   ]
  },
  {
   "attachments": {},
   "cell_type": "markdown",
   "metadata": {},
   "source": [
    "```amlp\n",
    "s.t. RM2_ReserveMargin_FuelsIncluded{r in REGION, l in TIMESLICE, y in YEAR: ReserveMargin[r,y] > 0}:\n",
    "\tsum {f in FUEL}\n",
    "\tRateOfProduction[r,l,f,y] * ReserveMarginTagFuel[r,f,y]\n",
    "\t=\n",
    "\tDemandNeedingReserveMargin[r,l,y];\n",
    "```\n"
   ]
  },
  {
   "cell_type": "code",
   "execution_count": 30,
   "metadata": {},
   "outputs": [
    {
     "data": {
      "text/plain": [
       "Constraint `RM2_ReserveMargin_FuelsIncluded` (REGION: 1, FUEL: 3, YEAR: 51, TIMESLICE: 8):\n",
       "------------------------------------------------------------------------------------------\n",
       "[R1, WATER, 2020, S1D1]: +nan RateOfProduction[R1, S1D1, WATER, 2020] - 1 DemandNeedingReserveMargin[R1, S1D1, 2020]   = -0.0\n",
       "[R1, WATER, 2020, S1D2]: +nan RateOfProduction[R1, S1D2, WATER, 2020] - 1 DemandNeedingReserveMargin[R1, S1D2, 2020]   = -0.0\n",
       "[R1, WATER, 2020, S2D1]: +nan RateOfProduction[R1, S2D1, WATER, 2020] - 1 DemandNeedingReserveMargin[R1, S2D1, 2020]   = -0.0\n",
       "[R1, WATER, 2020, S2D2]: +nan RateOfProduction[R1, S2D2, WATER, 2020] - 1 DemandNeedingReserveMargin[R1, S2D2, 2020]   = -0.0\n",
       "[R1, WATER, 2020, S3D1]: +nan RateOfProduction[R1, S3D1, WATER, 2020] - 1 DemandNeedingReserveMargin[R1, S3D1, 2020]   = -0.0\n",
       "[R1, WATER, 2020, S3D2]: +nan RateOfProduction[R1, S3D2, WATER, 2020] - 1 DemandNeedingReserveMargin[R1, S3D2, 2020]   = -0.0\n",
       "[R1, WATER, 2020, S4D1]: +nan RateOfProduction[R1, S4D1, WATER, 2020] - 1 DemandNeedingReserveMargin[R1, S4D1, 2020]   = -0.0\n",
       "\t\t...\n",
       "[R1, ELC_02, 2070, S1D2]: +nan RateOfProduction[R1, S1D2, ELC_02, 2070] - 1 DemandNeedingReserveMargin[R1, S1D2, 2070] = -0.0\n",
       "[R1, ELC_02, 2070, S2D1]: +nan RateOfProduction[R1, S2D1, ELC_02, 2070] - 1 DemandNeedingReserveMargin[R1, S2D1, 2070] = -0.0\n",
       "[R1, ELC_02, 2070, S2D2]: +nan RateOfProduction[R1, S2D2, ELC_02, 2070] - 1 DemandNeedingReserveMargin[R1, S2D2, 2070] = -0.0\n",
       "[R1, ELC_02, 2070, S3D1]: +nan RateOfProduction[R1, S3D1, ELC_02, 2070] - 1 DemandNeedingReserveMargin[R1, S3D1, 2070] = -0.0\n",
       "[R1, ELC_02, 2070, S3D2]: +nan RateOfProduction[R1, S3D2, ELC_02, 2070] - 1 DemandNeedingReserveMargin[R1, S3D2, 2070] = -0.0\n",
       "[R1, ELC_02, 2070, S4D1]: +nan RateOfProduction[R1, S4D1, ELC_02, 2070] - 1 DemandNeedingReserveMargin[R1, S4D1, 2070] = -0.0\n",
       "[R1, ELC_02, 2070, S4D2]: +nan RateOfProduction[R1, S4D2, ELC_02, 2070] - 1 DemandNeedingReserveMargin[R1, S4D2, 2070] = -0.0"
      ]
     },
     "execution_count": 30,
     "metadata": {},
     "output_type": "execute_result"
    }
   ],
   "source": [
    "con = ds['ReserveMarginTagFuel'] * m['RateOfProduction'] - m['DemandNeedingReserveMargin'] == 0\n",
    "mask = (ds['ReserveMargin'] > 0) & (ds['ReserveMarginTagFuel'] == 1)\n",
    "m.add_constraints(con, name='RM2_ReserveMargin_FuelsIncluded', mask=mask)"
   ]
  },
  {
   "cell_type": "markdown",
   "metadata": {},
   "source": [
    "```amlp\n",
    "s.t. RM3_ReserveMargin_Constraint{r in REGION, l in TIMESLICE, y in YEAR: ReserveMargin[r,y] > 0}:\n",
    "\tDemandNeedingReserveMargin[r,l,y] * ReserveMargin[r,y]\n",
    "\t<=\n",
    "\tTotalCapacityInReserveMargin[r,y];\n",
    "\t```"
   ]
  },
  {
   "cell_type": "code",
   "execution_count": 31,
   "metadata": {},
   "outputs": [
    {
     "data": {
      "text/plain": [
       "Constraint `RM3_ReserveMargin_Constraint` (REGION: 1, YEAR: 51, TIMESLICE: 8):\n",
       "------------------------------------------------------------------------------\n",
       "[R1, 2020, S1D1]: +1 DemandNeedingReserveMargin[R1, S1D1, 2020] - 1 TotalCapacityInReserveMargin[R1, 2020] = -0.0\n",
       "[R1, 2020, S1D2]: +1 DemandNeedingReserveMargin[R1, S1D2, 2020] - 1 TotalCapacityInReserveMargin[R1, 2020] = -0.0\n",
       "[R1, 2020, S2D1]: +1 DemandNeedingReserveMargin[R1, S2D1, 2020] - 1 TotalCapacityInReserveMargin[R1, 2020] = -0.0\n",
       "[R1, 2020, S2D2]: +1 DemandNeedingReserveMargin[R1, S2D2, 2020] - 1 TotalCapacityInReserveMargin[R1, 2020] = -0.0\n",
       "[R1, 2020, S3D1]: +1 DemandNeedingReserveMargin[R1, S3D1, 2020] - 1 TotalCapacityInReserveMargin[R1, 2020] = -0.0\n",
       "[R1, 2020, S3D2]: +1 DemandNeedingReserveMargin[R1, S3D2, 2020] - 1 TotalCapacityInReserveMargin[R1, 2020] = -0.0\n",
       "[R1, 2020, S4D1]: +1 DemandNeedingReserveMargin[R1, S4D1, 2020] - 1 TotalCapacityInReserveMargin[R1, 2020] = -0.0\n",
       "\t\t...\n",
       "[R1, 2070, S1D2]: +1 DemandNeedingReserveMargin[R1, S1D2, 2070] - 1 TotalCapacityInReserveMargin[R1, 2070] = -0.0\n",
       "[R1, 2070, S2D1]: +1 DemandNeedingReserveMargin[R1, S2D1, 2070] - 1 TotalCapacityInReserveMargin[R1, 2070] = -0.0\n",
       "[R1, 2070, S2D2]: +1 DemandNeedingReserveMargin[R1, S2D2, 2070] - 1 TotalCapacityInReserveMargin[R1, 2070] = -0.0\n",
       "[R1, 2070, S3D1]: +1 DemandNeedingReserveMargin[R1, S3D1, 2070] - 1 TotalCapacityInReserveMargin[R1, 2070] = -0.0\n",
       "[R1, 2070, S3D2]: +1 DemandNeedingReserveMargin[R1, S3D2, 2070] - 1 TotalCapacityInReserveMargin[R1, 2070] = -0.0\n",
       "[R1, 2070, S4D1]: +1 DemandNeedingReserveMargin[R1, S4D1, 2070] - 1 TotalCapacityInReserveMargin[R1, 2070] = -0.0\n",
       "[R1, 2070, S4D2]: +1 DemandNeedingReserveMargin[R1, S4D2, 2070] - 1 TotalCapacityInReserveMargin[R1, 2070] = -0.0"
      ]
     },
     "execution_count": 31,
     "metadata": {},
     "output_type": "execute_result"
    }
   ],
   "source": [
    "con = ds['ReserveMargin'] * m['DemandNeedingReserveMargin'] - m['TotalCapacityInReserveMargin'] == 0\n",
    "mask = ds['ReserveMargin'] > 0\n",
    "m.add_constraints(con, name='RM3_ReserveMargin_Constraint', mask=mask)"
   ]
  },
  {
   "attachments": {},
   "cell_type": "markdown",
   "metadata": {},
   "source": [
    "# RE Production Target NTS: Should change demand for production\n",
    "```ampl\n",
    "s.t. RE1_FuelProductionByTechnologyAnnual{r in REGION, t in TECHNOLOGY, f in FUEL, y in YEAR}: \n",
    "    sum{l in TIMESLICE} ProductionByTechnology[r,l,t,f,y] = ProductionByTechnologyAnnual[r,t,f,y];\n",
    "```"
   ]
  },
  {
   "cell_type": "code",
   "execution_count": 32,
   "metadata": {},
   "outputs": [
    {
     "data": {
      "text/plain": [
       "Constraint `RE1_FuelProductionByTechnologyAnnual` (REGION: 1, TECHNOLOGY: 3, FUEL: 3, YEAR: 51):\n",
       "------------------------------------------------------------------------------------------------\n",
       "[R1, TRANSMISSION, WATER, 2020]: +0 = -0.0\n",
       "[R1, TRANSMISSION, WATER, 2021]: +0 = -0.0\n",
       "[R1, TRANSMISSION, WATER, 2022]: +0 = -0.0\n",
       "[R1, TRANSMISSION, WATER, 2023]: +0 = -0.0\n",
       "[R1, TRANSMISSION, WATER, 2024]: +0 = -0.0\n",
       "[R1, TRANSMISSION, WATER, 2025]: +0 = -0.0\n",
       "[R1, TRANSMISSION, WATER, 2026]: +0 = -0.0\n",
       "\t\t...\n",
       "[R1, HYDRO, ELC_02, 2064]: +0       = -0.0\n",
       "[R1, HYDRO, ELC_02, 2065]: +0       = -0.0\n",
       "[R1, HYDRO, ELC_02, 2066]: +0       = -0.0\n",
       "[R1, HYDRO, ELC_02, 2067]: +0       = -0.0\n",
       "[R1, HYDRO, ELC_02, 2068]: +0       = -0.0\n",
       "[R1, HYDRO, ELC_02, 2069]: +0       = -0.0\n",
       "[R1, HYDRO, ELC_02, 2070]: +0       = -0.0"
      ]
     },
     "execution_count": 32,
     "metadata": {},
     "output_type": "execute_result"
    }
   ],
   "source": [
    "con = m['ProductionByTechnology'].sum('TIMESLICE') - m['ProductionByTechnologyAnnual'] == 0\n",
    "mask = ds['OutputActivityRatio'].sum('MODE_OF_OPERATION') != 0\n",
    "m.add_constraints(con, name='RE1_FuelProductionByTechnologyAnnual', mask=mask)"
   ]
  },
  {
   "attachments": {},
   "cell_type": "markdown",
   "metadata": {},
   "source": [
    "```ampl\n",
    "s.t. RE2_TechIncluded{r in REGION, y in YEAR}: sum{t in TECHNOLOGY, f in FUEL} ProductionByTechnologyAnnual[r,t,f,y]*RETagTechnology[r,t,y] = TotalREProductionAnnual[r,y];\n",
    "```"
   ]
  },
  {
   "cell_type": "code",
   "execution_count": 33,
   "metadata": {},
   "outputs": [
    {
     "data": {
      "text/plain": [
       "Constraint `RE2_TechIncluded` (REGION: 1, YEAR: 51, TECHNOLOGY: 3, FUEL: 3):\n",
       "----------------------------------------------------------------------------\n",
       "[R1, 2020, TRANSMISSION, WATER]: -1 TotalREProductionAnnual[R1, 2020]                                                                   = -0.0\n",
       "[R1, 2020, TRANSMISSION, ELC_01]: -1 TotalREProductionAnnual[R1, 2020]                                                                  = -0.0\n",
       "[R1, 2020, TRANSMISSION, ELC_02]: +0 ProductionByTechnologyAnnual[R1, TRANSMISSION, ELC_02, 2020] - 1 TotalREProductionAnnual[R1, 2020] = -0.0\n",
       "[R1, 2020, MINE_WATER, WATER]: +0 ProductionByTechnologyAnnual[R1, MINE_WATER, WATER, 2020] - 1 TotalREProductionAnnual[R1, 2020]       = -0.0\n",
       "[R1, 2020, MINE_WATER, ELC_01]: -1 TotalREProductionAnnual[R1, 2020]                                                                    = -0.0\n",
       "[R1, 2020, MINE_WATER, ELC_02]: -1 TotalREProductionAnnual[R1, 2020]                                                                    = -0.0\n",
       "[R1, 2020, HYDRO, WATER]: -1 TotalREProductionAnnual[R1, 2020]                                                                          = -0.0\n",
       "\t\t...\n",
       "[R1, 2070, TRANSMISSION, ELC_02]: +0 ProductionByTechnologyAnnual[R1, TRANSMISSION, ELC_02, 2070] - 1 TotalREProductionAnnual[R1, 2070] = -0.0\n",
       "[R1, 2070, MINE_WATER, WATER]: +0 ProductionByTechnologyAnnual[R1, MINE_WATER, WATER, 2070] - 1 TotalREProductionAnnual[R1, 2070]       = -0.0\n",
       "[R1, 2070, MINE_WATER, ELC_01]: -1 TotalREProductionAnnual[R1, 2070]                                                                    = -0.0\n",
       "[R1, 2070, MINE_WATER, ELC_02]: -1 TotalREProductionAnnual[R1, 2070]                                                                    = -0.0\n",
       "[R1, 2070, HYDRO, WATER]: -1 TotalREProductionAnnual[R1, 2070]                                                                          = -0.0\n",
       "[R1, 2070, HYDRO, ELC_01]: +0 ProductionByTechnologyAnnual[R1, HYDRO, ELC_01, 2070] - 1 TotalREProductionAnnual[R1, 2070]               = -0.0\n",
       "[R1, 2070, HYDRO, ELC_02]: -1 TotalREProductionAnnual[R1, 2070]                                                                         = -0.0"
      ]
     },
     "execution_count": 33,
     "metadata": {},
     "output_type": "execute_result"
    }
   ],
   "source": [
    "con = m['ProductionByTechnologyAnnual'] * ds['RETagTechnology'].fillna(0) - m['TotalREProductionAnnual'] == 0\n",
    "mask = ds['RETagTechnology'] == 1\n",
    "m.add_constraints(con, name='RE2_TechIncluded', mask=mask)"
   ]
  },
  {
   "attachments": {},
   "cell_type": "markdown",
   "metadata": {},
   "source": [
    "```ampl\n",
    "s.t. RE3_FuelIncluded{r in REGION, y in YEAR}: sum{l in TIMESLICE, f in FUEL} \n",
    "    RateOfProduction[r,l,f,y]*YearSplit[l,y]*RETagFuel[r,f,y] = RETotalProductionOfTargetFuelAnnual[r,y];\n",
    "```"
   ]
  },
  {
   "cell_type": "code",
   "execution_count": 34,
   "metadata": {},
   "outputs": [
    {
     "data": {
      "text/plain": [
       "Constraint `RE3_FuelIncluded` (YEAR: 51, TIMESLICE: 8, REGION: 1, FUEL: 3):\n",
       "---------------------------------------------------------------------------\n",
       "[2020, S1D1, R1, WATER]: +0 RateOfProduction[R1, S1D1, WATER, 2020] - 1 RETotalProductionOfTargetFuelAnnual[R1, 2020]   = -0.0\n",
       "[2020, S1D1, R1, ELC_01]: +0 RateOfProduction[R1, S1D1, ELC_01, 2020] - 1 RETotalProductionOfTargetFuelAnnual[R1, 2020] = -0.0\n",
       "[2020, S1D1, R1, ELC_02]: +0 RateOfProduction[R1, S1D1, ELC_02, 2020] - 1 RETotalProductionOfTargetFuelAnnual[R1, 2020] = -0.0\n",
       "[2020, S1D2, R1, WATER]: +0 RateOfProduction[R1, S1D2, WATER, 2020] - 1 RETotalProductionOfTargetFuelAnnual[R1, 2020]   = -0.0\n",
       "[2020, S1D2, R1, ELC_01]: +0 RateOfProduction[R1, S1D2, ELC_01, 2020] - 1 RETotalProductionOfTargetFuelAnnual[R1, 2020] = -0.0\n",
       "[2020, S1D2, R1, ELC_02]: +0 RateOfProduction[R1, S1D2, ELC_02, 2020] - 1 RETotalProductionOfTargetFuelAnnual[R1, 2020] = -0.0\n",
       "[2020, S2D1, R1, WATER]: +0 RateOfProduction[R1, S2D1, WATER, 2020] - 1 RETotalProductionOfTargetFuelAnnual[R1, 2020]   = -0.0\n",
       "\t\t...\n",
       "[2070, S3D2, R1, ELC_02]: +0 RateOfProduction[R1, S3D2, ELC_02, 2070] - 1 RETotalProductionOfTargetFuelAnnual[R1, 2070] = -0.0\n",
       "[2070, S4D1, R1, WATER]: +0 RateOfProduction[R1, S4D1, WATER, 2070] - 1 RETotalProductionOfTargetFuelAnnual[R1, 2070]   = -0.0\n",
       "[2070, S4D1, R1, ELC_01]: +0 RateOfProduction[R1, S4D1, ELC_01, 2070] - 1 RETotalProductionOfTargetFuelAnnual[R1, 2070] = -0.0\n",
       "[2070, S4D1, R1, ELC_02]: +0 RateOfProduction[R1, S4D1, ELC_02, 2070] - 1 RETotalProductionOfTargetFuelAnnual[R1, 2070] = -0.0\n",
       "[2070, S4D2, R1, WATER]: +0 RateOfProduction[R1, S4D2, WATER, 2070] - 1 RETotalProductionOfTargetFuelAnnual[R1, 2070]   = -0.0\n",
       "[2070, S4D2, R1, ELC_01]: +0 RateOfProduction[R1, S4D2, ELC_01, 2070] - 1 RETotalProductionOfTargetFuelAnnual[R1, 2070] = -0.0\n",
       "[2070, S4D2, R1, ELC_02]: +0 RateOfProduction[R1, S4D2, ELC_02, 2070] - 1 RETotalProductionOfTargetFuelAnnual[R1, 2070] = -0.0"
      ]
     },
     "execution_count": 34,
     "metadata": {},
     "output_type": "execute_result"
    }
   ],
   "source": [
    "con = m['RateOfProduction'] * ds['YearSplit'] * ds['RETagFuel'].fillna(0) - m['RETotalProductionOfTargetFuelAnnual'] == 0\n",
    "mask = ds['RETagFuel'] == 1\n",
    "m.add_constraints(con, name='RE3_FuelIncluded', mask=mask)"
   ]
  },
  {
   "attachments": {},
   "cell_type": "markdown",
   "metadata": {},
   "source": [
    "```ampl\n",
    "s.t. RE4_EnergyConstraint{r in REGION, y in YEAR}:\n",
    "    REMinProductionTarget[r,y] * RETotalProductionOfTargetFuelAnnual[r,y] <= TotalREProductionAnnual[r,y];\n",
    "```"
   ]
  },
  {
   "cell_type": "code",
   "execution_count": 35,
   "metadata": {},
   "outputs": [
    {
     "data": {
      "text/plain": [
       "Constraint `RE4_EnergyConstraint` (REGION: 1, YEAR: 51):\n",
       "--------------------------------------------------------\n",
       "[R1, 2020]: +0 RETotalProductionOfTargetFuelAnnual[R1, 2020] - 1 TotalREProductionAnnual[R1, 2020] ≤ -0.0\n",
       "[R1, 2021]: +0 RETotalProductionOfTargetFuelAnnual[R1, 2021] - 1 TotalREProductionAnnual[R1, 2021] ≤ -0.0\n",
       "[R1, 2022]: +0 RETotalProductionOfTargetFuelAnnual[R1, 2022] - 1 TotalREProductionAnnual[R1, 2022] ≤ -0.0\n",
       "[R1, 2023]: +0 RETotalProductionOfTargetFuelAnnual[R1, 2023] - 1 TotalREProductionAnnual[R1, 2023] ≤ -0.0\n",
       "[R1, 2024]: +0 RETotalProductionOfTargetFuelAnnual[R1, 2024] - 1 TotalREProductionAnnual[R1, 2024] ≤ -0.0\n",
       "[R1, 2025]: +0 RETotalProductionOfTargetFuelAnnual[R1, 2025] - 1 TotalREProductionAnnual[R1, 2025] ≤ -0.0\n",
       "[R1, 2026]: +0 RETotalProductionOfTargetFuelAnnual[R1, 2026] - 1 TotalREProductionAnnual[R1, 2026] ≤ -0.0\n",
       "\t\t...\n",
       "[R1, 2064]: +0 RETotalProductionOfTargetFuelAnnual[R1, 2064] - 1 TotalREProductionAnnual[R1, 2064] ≤ -0.0\n",
       "[R1, 2065]: +0 RETotalProductionOfTargetFuelAnnual[R1, 2065] - 1 TotalREProductionAnnual[R1, 2065] ≤ -0.0\n",
       "[R1, 2066]: +0 RETotalProductionOfTargetFuelAnnual[R1, 2066] - 1 TotalREProductionAnnual[R1, 2066] ≤ -0.0\n",
       "[R1, 2067]: +0 RETotalProductionOfTargetFuelAnnual[R1, 2067] - 1 TotalREProductionAnnual[R1, 2067] ≤ -0.0\n",
       "[R1, 2068]: +0 RETotalProductionOfTargetFuelAnnual[R1, 2068] - 1 TotalREProductionAnnual[R1, 2068] ≤ -0.0\n",
       "[R1, 2069]: +0 RETotalProductionOfTargetFuelAnnual[R1, 2069] - 1 TotalREProductionAnnual[R1, 2069] ≤ -0.0\n",
       "[R1, 2070]: +0 RETotalProductionOfTargetFuelAnnual[R1, 2070] - 1 TotalREProductionAnnual[R1, 2070] ≤ -0.0"
      ]
     },
     "execution_count": 35,
     "metadata": {},
     "output_type": "execute_result"
    }
   ],
   "source": [
    "con = m['RETotalProductionOfTargetFuelAnnual'] * ds['REMinProductionTarget'].fillna(0) - m['TotalREProductionAnnual'] <= 0\n",
    "mask = ds['REMinProductionTarget'] > 0\n",
    "m.add_constraints(con, name='RE4_EnergyConstraint', mask=mask)"
   ]
  },
  {
   "attachments": {},
   "cell_type": "markdown",
   "metadata": {},
   "source": [
    "```ampl\n",
    "s.t. RE5_FuelUseByTechnologyAnnual{r in REGION, t in TECHNOLOGY, f in FUEL, y in YEAR}: \n",
    "    sum{l in TIMESLICE} RateOfUseByTechnology[r,l,t,f,y] * YearSplit[l,y] = UseByTechnologyAnnual[r,t,f,y];\n",
    "```"
   ]
  },
  {
   "cell_type": "code",
   "execution_count": 36,
   "metadata": {},
   "outputs": [
    {
     "data": {
      "text/plain": [
       "Constraint `RE5_FuelUseByTechnologyAnnual` (YEAR: 51, REGION: 1, TECHNOLOGY: 3, FUEL: 3):\n",
       "-----------------------------------------------------------------------------------------\n",
       "[2020, R1, TRANSMISSION, WATER]: +0                                                                                                                                                                                                                                                                                                                                                                                                               = -0.0\n",
       "[2020, R1, TRANSMISSION, ELC_01]: +0.125 RateOfUseByTechnology[R1, S1D1, TRANSMISSION, ELC_01, 2020] + 0.125 RateOfUseByTechnology[R1, S1D2, TRANSMISSION, ELC_01, 2020] + 0.125 RateOfUseByTechnology[R1, S2D1, TRANSMISSION, ELC_01, 2020] ... +0.125 RateOfUseByTechnology[R1, S4D1, TRANSMISSION, ELC_01, 2020] + 0.125 RateOfUseByTechnology[R1, S4D2, TRANSMISSION, ELC_01, 2020] - 1 UseByTechnologyAnnual[R1, TRANSMISSION, ELC_01, 2020] = -0.0\n",
       "[2020, R1, TRANSMISSION, ELC_02]: +0                                                                                                                                                                                                                                                                                                                                                                                                              = -0.0\n",
       "[2020, R1, MINE_WATER, WATER]: +0                                                                                                                                                                                                                                                                                                                                                                                                                 = -0.0\n",
       "[2020, R1, MINE_WATER, ELC_01]: +0                                                                                                                                                                                                                                                                                                                                                                                                                = -0.0\n",
       "[2020, R1, MINE_WATER, ELC_02]: +0                                                                                                                                                                                                                                                                                                                                                                                                                = -0.0\n",
       "[2020, R1, HYDRO, WATER]: +0.125 RateOfUseByTechnology[R1, S1D1, HYDRO, WATER, 2020] + 0.125 RateOfUseByTechnology[R1, S1D2, HYDRO, WATER, 2020] + 0.125 RateOfUseByTechnology[R1, S2D1, HYDRO, WATER, 2020] ... +0.125 RateOfUseByTechnology[R1, S4D1, HYDRO, WATER, 2020] + 0.125 RateOfUseByTechnology[R1, S4D2, HYDRO, WATER, 2020] - 1 UseByTechnologyAnnual[R1, HYDRO, WATER, 2020]                                                         = -0.0\n",
       "\t\t...\n",
       "[2070, R1, TRANSMISSION, ELC_02]: +0                                                                                                                                                                                                                                                                                                                                                                                                              = -0.0\n",
       "[2070, R1, MINE_WATER, WATER]: +0                                                                                                                                                                                                                                                                                                                                                                                                                 = -0.0\n",
       "[2070, R1, MINE_WATER, ELC_01]: +0                                                                                                                                                                                                                                                                                                                                                                                                                = -0.0\n",
       "[2070, R1, MINE_WATER, ELC_02]: +0                                                                                                                                                                                                                                                                                                                                                                                                                = -0.0\n",
       "[2070, R1, HYDRO, WATER]: +0.125 RateOfUseByTechnology[R1, S1D1, HYDRO, WATER, 2070] + 0.125 RateOfUseByTechnology[R1, S1D2, HYDRO, WATER, 2070] + 0.125 RateOfUseByTechnology[R1, S2D1, HYDRO, WATER, 2070] ... +0.125 RateOfUseByTechnology[R1, S4D1, HYDRO, WATER, 2070] + 0.125 RateOfUseByTechnology[R1, S4D2, HYDRO, WATER, 2070] - 1 UseByTechnologyAnnual[R1, HYDRO, WATER, 2070]                                                         = -0.0\n",
       "[2070, R1, HYDRO, ELC_01]: +0                                                                                                                                                                                                                                                                                                                                                                                                                     = -0.0\n",
       "[2070, R1, HYDRO, ELC_02]: +0                                                                                                                                                                                                                                                                                                                                                                                                                     = -0.0"
      ]
     },
     "execution_count": 36,
     "metadata": {},
     "output_type": "execute_result"
    }
   ],
   "source": [
    "con = (ds['YearSplit'] * m['RateOfUseByTechnology']).sum('TIMESLICE') - m['UseByTechnologyAnnual'] == 0\n",
    "mask = ds['InputActivityRatio'].sum('MODE_OF_OPERATION') > 0\n",
    "m.add_constraints(con, name='RE5_FuelUseByTechnologyAnnual', mask=mask)"
   ]
  },
  {
   "cell_type": "markdown",
   "metadata": {},
   "source": [
    "## Emissions"
   ]
  },
  {
   "cell_type": "markdown",
   "metadata": {},
   "source": [
    "```ampl\n",
    "s.t. E1_AnnualEmissionProductionByMode{r in REGION, t in TECHNOLOGY, e in EMISSION, m in MODE_OF_OPERATION, y in YEAR:\n",
    "\t\t\t\t\t\t\t\t\t   EmissionActivityRatio[r,t,e,m,y] <> 0}:\n",
    "\tEmissionActivityRatio[r,t,e,m,y] * TotalAnnualTechnologyActivityByMode[r,t,m,y]\n",
    "\t=\n",
    "\tAnnualTechnologyEmissionByMode[r,t,e,m,y];\n",
    "```\n"
   ]
  },
  {
   "cell_type": "code",
   "execution_count": 37,
   "metadata": {},
   "outputs": [
    {
     "data": {
      "text/plain": [
       "Constraint `E1_AnnualEmissionProductionByMode` (REGION: 1, YEAR: 51, EMISSION: 0, TECHNOLOGY: 3, MODE_OF_OPERATION: 1):\n",
       "-----------------------------------------------------------------------------------------------------------------------"
      ]
     },
     "execution_count": 37,
     "metadata": {},
     "output_type": "execute_result"
    }
   ],
   "source": [
    "mask = ds['EmissionActivityRatio'].notnull()\n",
    "con = ds['EmissionActivityRatio'] * m['TotalAnnualTechnologyActivityByMode'] - m['AnnualTechnologyEmissionByMode'] == 0\n",
    "m.add_constraints(con, name='E1_AnnualEmissionProductionByMode', mask=mask)"
   ]
  },
  {
   "cell_type": "markdown",
   "metadata": {},
   "source": [
    "```ampl\n",
    "s.t. E2_AnnualEmissionProduction{r in REGION, t in TECHNOLOGY, e in EMISSION, y in YEAR}:\n",
    "\tsum{m in MODE_OF_OPERATION}\n",
    "\tAnnualTechnologyEmissionByMode[r,t,e,m,y]\n",
    "\t=\n",
    "\tAnnualTechnologyEmission[r,t,e,y];\n",
    "```"
   ]
  },
  {
   "cell_type": "code",
   "execution_count": 38,
   "metadata": {},
   "outputs": [],
   "source": [
    "if ds['EMISSION'].size > 0:\n",
    "    mask = ds['EmissionActivityRatio'].sum('MODE_OF_OPERATION') != 0\n",
    "    con = m['AnnualTechnologyEmissionByMode'].sum(dims='MODE_OF_OPERATION') - m['AnnualTechnologyEmission'] == 0\n",
    "    m.add_constraints(con, name='E2_AnnualEmissionProduction', mask=mask)"
   ]
  },
  {
   "attachments": {},
   "cell_type": "markdown",
   "metadata": {},
   "source": [
    "```ampl\n",
    "s.t. E3_EmissionsPenaltyByTechAndEmission{r in REGION, t in TECHNOLOGY, e in EMISSION, y in YEAR: EmissionsPenalty[r,e,y] <> 0}:\n",
    "\tAnnualTechnologyEmission[r,t,e,y] * EmissionsPenalty[r,e,y]\n",
    "\t=\n",
    "\tAnnualTechnologyEmissionPenaltyByEmission[r,t,e,y];\n",
    "```"
   ]
  },
  {
   "cell_type": "code",
   "execution_count": 39,
   "metadata": {},
   "outputs": [
    {
     "data": {
      "text/plain": [
       "Constraint `E3_EmissionsPenaltyByTechAndEmission` (REGION: 1, YEAR: 51, EMISSION: 0, TECHNOLOGY: 3):\n",
       "----------------------------------------------------------------------------------------------------"
      ]
     },
     "execution_count": 39,
     "metadata": {},
     "output_type": "execute_result"
    }
   ],
   "source": [
    "mask = (ds['EmissionsPenalty'].notnull()) & (ds['EmissionActivityRatio'].sum('MODE_OF_OPERATION') != 0)\n",
    "con = (m['AnnualTechnologyEmission'] * ds['EmissionsPenalty']) - m['AnnualTechnologyEmissionPenaltyByEmission'] == 0\n",
    "m.add_constraints(con, name='E3_EmissionsPenaltyByTechAndEmission', mask=mask)"
   ]
  },
  {
   "attachments": {},
   "cell_type": "markdown",
   "metadata": {},
   "source": [
    "```ampl\n",
    "s.t. E4_EmissionsPenaltyByTechnology{r in REGION, t in TECHNOLOGY, y in YEAR}:\n",
    "\tsum{e in EMISSION} AnnualTechnologyEmissionPenaltyByEmission[r,t,e,y]\n",
    "\t=\n",
    "\tAnnualTechnologyEmissionsPenalty[r,t,y];\n",
    "```\n"
   ]
  },
  {
   "cell_type": "code",
   "execution_count": 40,
   "metadata": {},
   "outputs": [
    {
     "data": {
      "text/plain": [
       "Constraint `E4_EmissionsPenaltyByTechnology` (REGION: 1, TECHNOLOGY: 3, YEAR: 51):\n",
       "----------------------------------------------------------------------------------\n",
       "[R1, TRANSMISSION, 2020]: -1 AnnualTechnologyEmissionsPenalty[R1, TRANSMISSION, 2020] = -0.0\n",
       "[R1, TRANSMISSION, 2021]: -1 AnnualTechnologyEmissionsPenalty[R1, TRANSMISSION, 2021] = -0.0\n",
       "[R1, TRANSMISSION, 2022]: -1 AnnualTechnologyEmissionsPenalty[R1, TRANSMISSION, 2022] = -0.0\n",
       "[R1, TRANSMISSION, 2023]: -1 AnnualTechnologyEmissionsPenalty[R1, TRANSMISSION, 2023] = -0.0\n",
       "[R1, TRANSMISSION, 2024]: -1 AnnualTechnologyEmissionsPenalty[R1, TRANSMISSION, 2024] = -0.0\n",
       "[R1, TRANSMISSION, 2025]: -1 AnnualTechnologyEmissionsPenalty[R1, TRANSMISSION, 2025] = -0.0\n",
       "[R1, TRANSMISSION, 2026]: -1 AnnualTechnologyEmissionsPenalty[R1, TRANSMISSION, 2026] = -0.0\n",
       "\t\t...\n",
       "[R1, HYDRO, 2064]: -1 AnnualTechnologyEmissionsPenalty[R1, HYDRO, 2064]               = -0.0\n",
       "[R1, HYDRO, 2065]: -1 AnnualTechnologyEmissionsPenalty[R1, HYDRO, 2065]               = -0.0\n",
       "[R1, HYDRO, 2066]: -1 AnnualTechnologyEmissionsPenalty[R1, HYDRO, 2066]               = -0.0\n",
       "[R1, HYDRO, 2067]: -1 AnnualTechnologyEmissionsPenalty[R1, HYDRO, 2067]               = -0.0\n",
       "[R1, HYDRO, 2068]: -1 AnnualTechnologyEmissionsPenalty[R1, HYDRO, 2068]               = -0.0\n",
       "[R1, HYDRO, 2069]: -1 AnnualTechnologyEmissionsPenalty[R1, HYDRO, 2069]               = -0.0\n",
       "[R1, HYDRO, 2070]: -1 AnnualTechnologyEmissionsPenalty[R1, HYDRO, 2070]               = -0.0"
      ]
     },
     "execution_count": 40,
     "metadata": {},
     "output_type": "execute_result"
    }
   ],
   "source": [
    "con = m['AnnualTechnologyEmissionPenaltyByEmission'].sum('EMISSION') - m['AnnualTechnologyEmissionsPenalty'] == 0\n",
    "m.add_constraints(con, name='E4_EmissionsPenaltyByTechnology')"
   ]
  },
  {
   "attachments": {},
   "cell_type": "markdown",
   "metadata": {},
   "source": [
    "```ampl\n",
    "s.t. E5_DiscountedEmissionsPenaltyByTechnology{r in REGION, t in TECHNOLOGY, y in YEAR}:\n",
    "\tAnnualTechnologyEmissionsPenalty[r,t,y] / DiscountFactorMid[r,y]\n",
    "\t=\n",
    "\tDiscountedTechnologyEmissionsPenalty[r,t,y];\n",
    "```"
   ]
  },
  {
   "cell_type": "code",
   "execution_count": 41,
   "metadata": {},
   "outputs": [
    {
     "data": {
      "text/plain": [
       "Constraint `E5_DiscountedEmissionsPenaltyByTechnology` (REGION: 1, YEAR: 51, TECHNOLOGY: 3):\n",
       "--------------------------------------------------------------------------------------------\n",
       "[R1, 2020, TRANSMISSION]: +0.9759 AnnualTechnologyEmissionsPenalty[R1, TRANSMISSION, 2020] - 1 DiscountedTechnologyEmissionsPenalty[R1, TRANSMISSION, 2020]  = -0.0\n",
       "[R1, 2020, MINE_WATER]: +0.9759 AnnualTechnologyEmissionsPenalty[R1, MINE_WATER, 2020] - 1 DiscountedTechnologyEmissionsPenalty[R1, MINE_WATER, 2020]        = -0.0\n",
       "[R1, 2020, HYDRO]: +0.9759 AnnualTechnologyEmissionsPenalty[R1, HYDRO, 2020] - 1 DiscountedTechnologyEmissionsPenalty[R1, HYDRO, 2020]                       = -0.0\n",
       "[R1, 2021, TRANSMISSION]: +0.9294 AnnualTechnologyEmissionsPenalty[R1, TRANSMISSION, 2021] - 1 DiscountedTechnologyEmissionsPenalty[R1, TRANSMISSION, 2021]  = -0.0\n",
       "[R1, 2021, MINE_WATER]: +0.9294 AnnualTechnologyEmissionsPenalty[R1, MINE_WATER, 2021] - 1 DiscountedTechnologyEmissionsPenalty[R1, MINE_WATER, 2021]        = -0.0\n",
       "[R1, 2021, HYDRO]: +0.9294 AnnualTechnologyEmissionsPenalty[R1, HYDRO, 2021] - 1 DiscountedTechnologyEmissionsPenalty[R1, HYDRO, 2021]                       = -0.0\n",
       "[R1, 2022, TRANSMISSION]: +0.8852 AnnualTechnologyEmissionsPenalty[R1, TRANSMISSION, 2022] - 1 DiscountedTechnologyEmissionsPenalty[R1, TRANSMISSION, 2022]  = -0.0\n",
       "\t\t...\n",
       "[R1, 2068, HYDRO]: +0.09383 AnnualTechnologyEmissionsPenalty[R1, HYDRO, 2068] - 1 DiscountedTechnologyEmissionsPenalty[R1, HYDRO, 2068]                      = -0.0\n",
       "[R1, 2069, TRANSMISSION]: +0.08936 AnnualTechnologyEmissionsPenalty[R1, TRANSMISSION, 2069] - 1 DiscountedTechnologyEmissionsPenalty[R1, TRANSMISSION, 2069] = -0.0\n",
       "[R1, 2069, MINE_WATER]: +0.08936 AnnualTechnologyEmissionsPenalty[R1, MINE_WATER, 2069] - 1 DiscountedTechnologyEmissionsPenalty[R1, MINE_WATER, 2069]       = -0.0\n",
       "[R1, 2069, HYDRO]: +0.08936 AnnualTechnologyEmissionsPenalty[R1, HYDRO, 2069] - 1 DiscountedTechnologyEmissionsPenalty[R1, HYDRO, 2069]                      = -0.0\n",
       "[R1, 2070, TRANSMISSION]: +0.0851 AnnualTechnologyEmissionsPenalty[R1, TRANSMISSION, 2070] - 1 DiscountedTechnologyEmissionsPenalty[R1, TRANSMISSION, 2070]  = -0.0\n",
       "[R1, 2070, MINE_WATER]: +0.0851 AnnualTechnologyEmissionsPenalty[R1, MINE_WATER, 2070] - 1 DiscountedTechnologyEmissionsPenalty[R1, MINE_WATER, 2070]        = -0.0\n",
       "[R1, 2070, HYDRO]: +0.0851 AnnualTechnologyEmissionsPenalty[R1, HYDRO, 2070] - 1 DiscountedTechnologyEmissionsPenalty[R1, HYDRO, 2070]                       = -0.0"
      ]
     },
     "execution_count": 41,
     "metadata": {},
     "output_type": "execute_result"
    }
   ],
   "source": [
    "con = m['AnnualTechnologyEmissionsPenalty'] / discount_factor_mid - m['DiscountedTechnologyEmissionsPenalty'] == 0\n",
    "m.add_constraints(con, name='E5_DiscountedEmissionsPenaltyByTechnology')"
   ]
  },
  {
   "cell_type": "markdown",
   "metadata": {},
   "source": [
    "```ampl\n",
    "s.t. E6_EmissionsAccounting1{r in REGION, e in EMISSION, y in YEAR}:\n",
    "\tsum{t in TECHNOLOGY}\n",
    "\tAnnualTechnologyEmission[r,t,e,y]\n",
    "\t=\n",
    "\tAnnualEmissions[r,e,y];\n",
    "```"
   ]
  },
  {
   "cell_type": "code",
   "execution_count": null,
   "metadata": {},
   "outputs": [],
   "source": []
  },
  {
   "cell_type": "code",
   "execution_count": 42,
   "metadata": {},
   "outputs": [],
   "source": [
    "if ds['EMISSION'].size > 0:\n",
    "    con = m['AnnualTechnologyEmission'].sum(dims=['TECHNOLOGY']) - m['AnnualEmissions'] == 0\n",
    "    m.add_constraints(con, name='E6_EmissionsAccounting1')"
   ]
  },
  {
   "attachments": {},
   "cell_type": "markdown",
   "metadata": {},
   "source": [
    "```ampl\n",
    "s.t. E7_EmissionsAccounting2{r in REGION, e in EMISSION}:\n",
    "\tsum{y in YEAR} AnnualEmissions[r,e,y]\n",
    "\t=\n",
    "\tModelPeriodEmissions[r,e] - ModelPeriodExogenousEmission[r,e];\n",
    "```"
   ]
  },
  {
   "cell_type": "code",
   "execution_count": 43,
   "metadata": {},
   "outputs": [],
   "source": [
    "if ds['EMISSION'].size > 0:\n",
    "    con = m['ModelPeriodEmissions'] - m['AnnualEmissions'].sum('YEAR') == ds['ModelPeriodExogenousEmission'].fillna(0)\n",
    "    m.add_constraints(con, name='E7_EmissionsAccounting2')"
   ]
  },
  {
   "attachments": {},
   "cell_type": "markdown",
   "metadata": {},
   "source": [
    "```ampl\n",
    "s.t. E8_AnnualEmissionsLimit{r in REGION, e in EMISSION, y in YEAR: AnnualEmissionLimit[r, e, y] <> -1}:\n",
    "\tAnnualEmissions[r,e,y] + AnnualExogenousEmission[r,e,y]\n",
    "\t<=\n",
    "\tAnnualEmissionLimit[r,e,y];\n",
    "```"
   ]
  },
  {
   "cell_type": "code",
   "execution_count": 44,
   "metadata": {},
   "outputs": [],
   "source": [
    "if 'E8_AnnualEmissionsLimit' in m.constraints:\n",
    "    m.remove_constraints('E8_AnnualEmissionsLimit')"
   ]
  },
  {
   "cell_type": "code",
   "execution_count": 45,
   "metadata": {},
   "outputs": [
    {
     "data": {
      "text/plain": [
       "Constraint `E8_AnnualEmissionsLimit` (REGION: 1, EMISSION: 0, YEAR: 51):\n",
       "------------------------------------------------------------------------"
      ]
     },
     "execution_count": 45,
     "metadata": {},
     "output_type": "execute_result"
    }
   ],
   "source": [
    "con = m['AnnualEmissions'] <= ds['AnnualEmissionLimit'] - ds['AnnualExogenousEmission'].fillna(0)\n",
    "mask = ds['AnnualEmissionLimit'] != -1\n",
    "m.add_constraints(con, name='E8_AnnualEmissionsLimit', mask=mask)"
   ]
  },
  {
   "cell_type": "markdown",
   "metadata": {},
   "source": [
    "```ampl\n",
    "s.t. E9_ModelPeriodEmissionsLimit{r in REGION, e in EMISSION: ModelPeriodEmissionLimit[r, e] <> -1}:\n",
    "\tModelPeriodEmissions[r,e]\n",
    "\t<=\n",
    "\tModelPeriodEmissionLimit[r,e];\n",
    "```"
   ]
  },
  {
   "cell_type": "code",
   "execution_count": 46,
   "metadata": {},
   "outputs": [
    {
     "data": {
      "text/plain": [
       "Constraint `E9_ModelPeriodEmissionsLimit` (REGION: 1, EMISSION: 0):\n",
       "-------------------------------------------------------------------"
      ]
     },
     "execution_count": 46,
     "metadata": {},
     "output_type": "execute_result"
    }
   ],
   "source": [
    "# con = m['ModelPeriodEmissions'] <= ds['ModelPeriodEmissionLimit']\n",
    "mask = ds['ModelPeriodEmissionLimit'] != -1\n",
    "m.add_constraints(lhs=m['ModelPeriodEmissions'], \n",
    "                  sign='<=', \n",
    "                  rhs=ds['ModelPeriodEmissionLimit'], \n",
    "                  name='E9_ModelPeriodEmissionsLimit', \n",
    "                  mask=mask)"
   ]
  },
  {
   "cell_type": "markdown",
   "metadata": {},
   "source": [
    "# Objective Function\n",
    "```ampl\n",
    "minimize cost: sum{r in REGION, y in YEAR} TotalDiscountedCost[r,y];\n",
    "```"
   ]
  },
  {
   "cell_type": "code",
   "execution_count": 47,
   "metadata": {},
   "outputs": [],
   "source": [
    "objective = m['TotalDiscountedCost'].sum(dims=['REGION', 'YEAR'])\n",
    "m.add_objective(expr=objective, overwrite=True)"
   ]
  },
  {
   "cell_type": "markdown",
   "metadata": {},
   "source": [
    "# Solving"
   ]
  },
  {
   "cell_type": "code",
   "execution_count": 48,
   "metadata": {},
   "outputs": [
    {
     "name": "stderr",
     "output_type": "stream",
     "text": [
      "Writing constraints.: 100%|\u001b[38;2;128;191;255m██████████\u001b[0m| 60/60 [00:00<00:00, 263.36it/s]\n",
      "Writing continuous variables.: 100%|\u001b[38;2;128;191;255m██████████\u001b[0m| 49/49 [00:00<00:00, 727.69it/s]\n",
      "Writing integer variables.: 100%|\u001b[38;2;128;191;255m██████████\u001b[0m| 1/1 [00:00<00:00, 749.65it/s]\n"
     ]
    },
    {
     "data": {
      "text/plain": [
       "PosixPath('../results/model_one/model_one.lp')"
      ]
     },
     "execution_count": 48,
     "metadata": {},
     "output_type": "execute_result"
    }
   ],
   "source": [
    "results_path = f\"../results/{model_name}/\"\n",
    "if not os.path.exists(results_path):\n",
    "    os.makedirs(results_path)\n",
    "\n",
    "m.to_file(f'../results/{model_name}/{model_name}.lp')"
   ]
  },
  {
   "cell_type": "code",
   "execution_count": 49,
   "metadata": {},
   "outputs": [
    {
     "name": "stdout",
     "output_type": "stream",
     "text": [
      "['glpk', 'cbc']\n"
     ]
    }
   ],
   "source": [
    "print(available_solvers)"
   ]
  },
  {
   "cell_type": "code",
   "execution_count": 50,
   "metadata": {},
   "outputs": [
    {
     "name": "stderr",
     "output_type": "stream",
     "text": [
      "IO setting 'direct' not available for glpk solver. Falling back to `lp`.\n",
      "Writing constraints.: 100%|\u001b[38;2;128;191;255m██████████\u001b[0m| 60/60 [00:00<00:00, 313.04it/s]\n",
      "Writing continuous variables.: 100%|\u001b[38;2;128;191;255m██████████\u001b[0m| 49/49 [00:00<00:00, 736.23it/s]\n",
      "Writing integer variables.: 100%|\u001b[38;2;128;191;255m██████████\u001b[0m| 1/1 [00:00<00:00, 888.81it/s]\n"
     ]
    },
    {
     "data": {
      "text/plain": [
       "('ok', 'optimal')"
      ]
     },
     "execution_count": 50,
     "metadata": {},
     "output_type": "execute_result"
    }
   ],
   "source": [
    "m.solve(solver_name='glpk', io_api='lp', log_fn=f'../results/{model_name}/solver.log')"
   ]
  },
  {
   "cell_type": "code",
   "execution_count": 51,
   "metadata": {},
   "outputs": [],
   "source": [
    "results_path = f\"../results/{model_name}/csv/\"\n",
    "if not os.path.exists(results_path):\n",
    "    os.makedirs(results_path)\n",
    "    \n",
    "for variable, data in m.solution.items():\n",
    "    data = data.to_dataframe(name=variable)\n",
    "    data[data[variable] != 0.0].to_csv(f\"../results/{model_name}/csv/{variable}.csv\")"
   ]
  }
 ],
 "metadata": {
  "kernelspec": {
   "display_name": "osemosys_linopy",
   "language": "python",
   "name": "python3"
  },
  "language_info": {
   "codemirror_mode": {
    "name": "ipython",
    "version": 3
   },
   "file_extension": ".py",
   "mimetype": "text/x-python",
   "name": "python",
   "nbconvert_exporter": "python",
   "pygments_lexer": "ipython3",
   "version": "3.11.7"
  }
 },
 "nbformat": 4,
 "nbformat_minor": 2
}
